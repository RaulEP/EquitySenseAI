{
 "cells": [
  {
   "metadata": {},
   "cell_type": "markdown",
   "source": "## Data Ingestion | Preprocessing | Vectorization Pipeline ",
   "id": "2cc9fb01f6d98ecc"
  },
  {
   "metadata": {
    "ExecuteTime": {
     "end_time": "2024-10-26T15:43:11.524406Z",
     "start_time": "2024-10-26T15:43:11.518343Z"
    }
   },
   "cell_type": "code",
   "source": [
    "import os\n",
    "\n",
    "from openai import api_key\n",
    "\n",
    "ROOT_DIR = 'C:\\Development\\EquitySenseAI'\n",
    "os.chdir(ROOT_DIR)"
   ],
   "id": "b3fe7648ca628b73",
   "outputs": [],
   "execution_count": 56
  },
  {
   "metadata": {
    "ExecuteTime": {
     "end_time": "2024-10-26T15:43:11.549535Z",
     "start_time": "2024-10-26T15:43:11.539415Z"
    }
   },
   "cell_type": "code",
   "source": [
    "from dotenv import load_dotenv, find_dotenv\n",
    "\n",
    "DOT_ENV_PATH = find_dotenv()\n",
    "\n",
    "load_dotenv(DOT_ENV_PATH)"
   ],
   "id": "40fe1d49ce97a1ce",
   "outputs": [
    {
     "data": {
      "text/plain": [
       "True"
      ]
     },
     "execution_count": 57,
     "metadata": {},
     "output_type": "execute_result"
    }
   ],
   "execution_count": 57
  },
  {
   "metadata": {
    "ExecuteTime": {
     "end_time": "2024-10-26T15:43:11.663666Z",
     "start_time": "2024-10-26T15:43:11.654105Z"
    }
   },
   "cell_type": "code",
   "source": [
    "OPENAI_API_KEY = os.getenv(\"OPENAI_API_KEY\")\n",
    "PINECONE_API_KEY = os.getenv(\"PINECONE_API_KEY\")\n",
    "TICKER_ID = \"SBUX\"\n",
    "COMPANY_NAME = \"STARBUCKS Corp\"\n",
    "PINECONE_INDEX_NAME = \"equity-sense-vdb\"\n",
    "SOURCE_FILE = 'financials/{}_income_statement.csv'.format(TICKER_ID)"
   ],
   "id": "eebc03127d693520",
   "outputs": [],
   "execution_count": 58
  },
  {
   "metadata": {},
   "cell_type": "markdown",
   "source": "### Preprocess Income Statement CSV Data",
   "id": "8f4d5f4277885b24"
  },
  {
   "metadata": {
    "ExecuteTime": {
     "end_time": "2024-10-26T15:43:11.777933Z",
     "start_time": "2024-10-26T15:43:11.711005Z"
    }
   },
   "cell_type": "code",
   "source": [
    "import pandas as pd\n",
    "\n",
    "# Change Column Name for Better Readability\n",
    "income_data = pd.read_csv(SOURCE_FILE)\n",
    "income_data.rename({'Unnamed: 0':'Feature'}, axis=1, inplace=True)"
   ],
   "id": "17b69073e5039414",
   "outputs": [],
   "execution_count": 59
  },
  {
   "metadata": {
    "ExecuteTime": {
     "end_time": "2024-10-26T15:43:11.896528Z",
     "start_time": "2024-10-26T15:43:11.816814Z"
    }
   },
   "cell_type": "code",
   "source": [
    "features = income_data['Feature'].unique()\n",
    "\n",
    "income_per_feature = {}\n",
    "for feature in features:\n",
    "    year = income_data[income_data['Feature'] == feature]\n",
    "    income_per_feature[feature] = year\n",
    "\n",
    "income_per_feature['Tax Effect Of Unusual Items']"
   ],
   "id": "b761d076a7459aed",
   "outputs": [
    {
     "data": {
      "text/plain": [
       "                       Feature  2023-09-30  2022-09-30   2021-09-30  \\\n",
       "0  Tax Effect Of Unusual Items  16402000.0 -10304000.0  149925600.0   \n",
       "\n",
       "   2020-09-30  \n",
       "0 -57412200.0  "
      ],
      "text/html": [
       "<div>\n",
       "<style scoped>\n",
       "    .dataframe tbody tr th:only-of-type {\n",
       "        vertical-align: middle;\n",
       "    }\n",
       "\n",
       "    .dataframe tbody tr th {\n",
       "        vertical-align: top;\n",
       "    }\n",
       "\n",
       "    .dataframe thead th {\n",
       "        text-align: right;\n",
       "    }\n",
       "</style>\n",
       "<table border=\"1\" class=\"dataframe\">\n",
       "  <thead>\n",
       "    <tr style=\"text-align: right;\">\n",
       "      <th></th>\n",
       "      <th>Feature</th>\n",
       "      <th>2023-09-30</th>\n",
       "      <th>2022-09-30</th>\n",
       "      <th>2021-09-30</th>\n",
       "      <th>2020-09-30</th>\n",
       "    </tr>\n",
       "  </thead>\n",
       "  <tbody>\n",
       "    <tr>\n",
       "      <th>0</th>\n",
       "      <td>Tax Effect Of Unusual Items</td>\n",
       "      <td>16402000.0</td>\n",
       "      <td>-10304000.0</td>\n",
       "      <td>149925600.0</td>\n",
       "      <td>-57412200.0</td>\n",
       "    </tr>\n",
       "  </tbody>\n",
       "</table>\n",
       "</div>"
      ]
     },
     "execution_count": 60,
     "metadata": {},
     "output_type": "execute_result"
    }
   ],
   "execution_count": 60
  },
  {
   "metadata": {
    "ExecuteTime": {
     "end_time": "2024-10-26T15:43:12.799016Z",
     "start_time": "2024-10-26T15:43:12.791309Z"
    }
   },
   "cell_type": "code",
   "source": [
    "features = list(income_per_feature.keys())\n",
    "features"
   ],
   "id": "1e4a43e42e3c498b",
   "outputs": [
    {
     "data": {
      "text/plain": [
       "['Tax Effect Of Unusual Items',\n",
       " 'Tax Rate For Calcs',\n",
       " 'Normalized EBITDA',\n",
       " 'Total Unusual Items',\n",
       " 'Total Unusual Items Excluding Goodwill',\n",
       " 'Net Income From Continuing Operation Net Minority Interest',\n",
       " 'Reconciled Depreciation',\n",
       " 'Reconciled Cost Of Revenue',\n",
       " 'EBITDA',\n",
       " 'EBIT',\n",
       " 'Net Interest Income',\n",
       " 'Interest Expense',\n",
       " 'Interest Income',\n",
       " 'Normalized Income',\n",
       " 'Net Income From Continuing And Discontinued Operation',\n",
       " 'Total Expenses',\n",
       " 'Rent Expense Supplemental',\n",
       " 'Total Operating Income As Reported',\n",
       " 'Diluted Average Shares',\n",
       " 'Basic Average Shares',\n",
       " 'Diluted EPS',\n",
       " 'Basic EPS',\n",
       " 'Diluted NI Availto Com Stockholders',\n",
       " 'Net Income Common Stockholders',\n",
       " 'Net Income',\n",
       " 'Minority Interests',\n",
       " 'Net Income Including Noncontrolling Interests',\n",
       " 'Net Income Continuous Operations',\n",
       " 'Tax Provision',\n",
       " 'Pretax Income',\n",
       " 'Other Income Expense',\n",
       " 'Special Income Charges',\n",
       " 'Gain On Sale Of Ppe',\n",
       " 'Gain On Sale Of Business',\n",
       " 'Restructuring And Mergern Acquisition',\n",
       " 'Earnings From Equity Interest',\n",
       " 'Net Non Operating Interest Income Expense',\n",
       " 'Interest Expense Non Operating',\n",
       " 'Interest Income Non Operating',\n",
       " 'Operating Income',\n",
       " 'Operating Expense',\n",
       " 'Other Operating Expenses',\n",
       " 'Depreciation Amortization Depletion Income Statement',\n",
       " 'Depreciation And Amortization In Income Statement',\n",
       " 'Selling General And Administration',\n",
       " 'General And Administrative Expense',\n",
       " 'Other Gand A',\n",
       " 'Gross Profit',\n",
       " 'Cost Of Revenue',\n",
       " 'Total Revenue',\n",
       " 'Operating Revenue']"
      ]
     },
     "execution_count": 61,
     "metadata": {},
     "output_type": "execute_result"
    }
   ],
   "execution_count": 61
  },
  {
   "metadata": {
    "ExecuteTime": {
     "end_time": "2024-10-26T15:43:12.995746Z",
     "start_time": "2024-10-26T15:43:12.988669Z"
    }
   },
   "cell_type": "code",
   "source": [
    "years = list(income_per_feature['Total Revenue'].columns[1:])\n",
    "years"
   ],
   "id": "43cfb86efd51032f",
   "outputs": [
    {
     "data": {
      "text/plain": [
       "['2023-09-30', '2022-09-30', '2021-09-30', '2020-09-30']"
      ]
     },
     "execution_count": 62,
     "metadata": {},
     "output_type": "execute_result"
    }
   ],
   "execution_count": 62
  },
  {
   "metadata": {},
   "cell_type": "markdown",
   "source": "### Data Transformation into Descriptive Rows with Financial Information for each feature. ",
   "id": "e9116acf83684b57"
  },
  {
   "metadata": {
    "ExecuteTime": {
     "end_time": "2024-10-26T15:43:13.252889Z",
     "start_time": "2024-10-26T15:43:13.196275Z"
    }
   },
   "cell_type": "code",
   "source": [
    "financial_data_list = []\n",
    "for feature in features:\n",
    "    content = \"The {0} {1} \".format(COMPANY_NAME,feature)\n",
    "    filtered = income_per_feature[feature]\n",
    "    for year in years:\n",
    "        content += \"For the date {0}\".format(year)\n",
    "        row_value = filtered[year].reset_index(drop=True)[0] / 1000000000\n",
    "        row = \" was {0} Billions USD. \".format(row_value)\n",
    "        content += row\n",
    "    financial_data_list.append(content)\n",
    "financial_data_list[:5]"
   ],
   "id": "a46ef4b7b93ca26c",
   "outputs": [
    {
     "data": {
      "text/plain": [
       "['The STARBUCKS Corp Tax Effect Of Unusual Items For the date 2023-09-30 was 0.016402 Billions USD. For the date 2022-09-30 was -0.010304 Billions USD. For the date 2021-09-30 was 0.1499256 Billions USD. For the date 2020-09-30 was -0.0574122 Billions USD. ',\n",
       " 'The STARBUCKS Corp Tax Rate For Calcs For the date 2023-09-30 was 2.36e-10 Billions USD. For the date 2022-09-30 was 2.24e-10 Billions USD. For the date 2021-09-30 was 2.16e-10 Billions USD. For the date 2020-09-30 was 2.0599999999999999e-10 Billions USD. ',\n",
       " 'The STARBUCKS Corp Normalized EBITDA For the date 2023-09-30 was 7.3328 Billions USD. For the date 2022-09-30 was 6.2902 Billions USD. For the date 2021-09-30 was 6.6567 Billions USD. For the date 2020-09-30 was 3.3833 Billions USD. ',\n",
       " 'The STARBUCKS Corp Total Unusual Items For the date 2023-09-30 was 0.0695 Billions USD. For the date 2022-09-30 was -0.046 Billions USD. For the date 2021-09-30 was 0.6941 Billions USD. For the date 2020-09-30 was -0.2787 Billions USD. ',\n",
       " 'The STARBUCKS Corp Total Unusual Items Excluding Goodwill For the date 2023-09-30 was 0.0695 Billions USD. For the date 2022-09-30 was -0.046 Billions USD. For the date 2021-09-30 was 0.6941 Billions USD. For the date 2020-09-30 was -0.2787 Billions USD. ']"
      ]
     },
     "execution_count": 63,
     "metadata": {},
     "output_type": "execute_result"
    }
   ],
   "execution_count": 63
  },
  {
   "metadata": {},
   "cell_type": "markdown",
   "source": "This are the first 5 rows for our new financial data python List.",
   "id": "c8a826b611bb9bb6"
  },
  {
   "metadata": {},
   "cell_type": "markdown",
   "source": "### Convert list into LangChain Document Schema prior to Vectorization",
   "id": "b8aea72cd827d8b0"
  },
  {
   "metadata": {
    "ExecuteTime": {
     "end_time": "2024-10-26T15:43:13.378674Z",
     "start_time": "2024-10-26T15:43:13.367040Z"
    }
   },
   "cell_type": "code",
   "source": [
    "from langchain.schema import Document\n",
    "\n",
    "ticker_metadata = {\"source\": SOURCE_FILE, \"ticker_id\": TICKER_ID}\n",
    "\n",
    "# Convert list of strings into LangChain Documents\n",
    "financial_documents = [Document(page_content=row,metadata=ticker_metadata) for row in financial_data_list]\n",
    "financial_documents"
   ],
   "id": "59ffa9b139de6cda",
   "outputs": [
    {
     "data": {
      "text/plain": [
       "[Document(metadata={'source': 'financials/SBUX_income_statement.csv', 'ticker_id': 'SBUX'}, page_content='The STARBUCKS Corp Tax Effect Of Unusual Items For the date 2023-09-30 was 0.016402 Billions USD. For the date 2022-09-30 was -0.010304 Billions USD. For the date 2021-09-30 was 0.1499256 Billions USD. For the date 2020-09-30 was -0.0574122 Billions USD. '),\n",
       " Document(metadata={'source': 'financials/SBUX_income_statement.csv', 'ticker_id': 'SBUX'}, page_content='The STARBUCKS Corp Tax Rate For Calcs For the date 2023-09-30 was 2.36e-10 Billions USD. For the date 2022-09-30 was 2.24e-10 Billions USD. For the date 2021-09-30 was 2.16e-10 Billions USD. For the date 2020-09-30 was 2.0599999999999999e-10 Billions USD. '),\n",
       " Document(metadata={'source': 'financials/SBUX_income_statement.csv', 'ticker_id': 'SBUX'}, page_content='The STARBUCKS Corp Normalized EBITDA For the date 2023-09-30 was 7.3328 Billions USD. For the date 2022-09-30 was 6.2902 Billions USD. For the date 2021-09-30 was 6.6567 Billions USD. For the date 2020-09-30 was 3.3833 Billions USD. '),\n",
       " Document(metadata={'source': 'financials/SBUX_income_statement.csv', 'ticker_id': 'SBUX'}, page_content='The STARBUCKS Corp Total Unusual Items For the date 2023-09-30 was 0.0695 Billions USD. For the date 2022-09-30 was -0.046 Billions USD. For the date 2021-09-30 was 0.6941 Billions USD. For the date 2020-09-30 was -0.2787 Billions USD. '),\n",
       " Document(metadata={'source': 'financials/SBUX_income_statement.csv', 'ticker_id': 'SBUX'}, page_content='The STARBUCKS Corp Total Unusual Items Excluding Goodwill For the date 2023-09-30 was 0.0695 Billions USD. For the date 2022-09-30 was -0.046 Billions USD. For the date 2021-09-30 was 0.6941 Billions USD. For the date 2020-09-30 was -0.2787 Billions USD. '),\n",
       " Document(metadata={'source': 'financials/SBUX_income_statement.csv', 'ticker_id': 'SBUX'}, page_content='The STARBUCKS Corp Net Income From Continuing Operation Net Minority Interest For the date 2023-09-30 was 4.1245 Billions USD. For the date 2022-09-30 was 3.2816 Billions USD. For the date 2021-09-30 was 4.1993 Billions USD. For the date 2020-09-30 was 0.9283 Billions USD. '),\n",
       " Document(metadata={'source': 'financials/SBUX_income_statement.csv', 'ticker_id': 'SBUX'}, page_content='The STARBUCKS Corp Reconciled Depreciation For the date 2023-09-30 was 1.4503 Billions USD. For the date 2022-09-30 was 1.5294 Billions USD. For the date 2021-09-30 was 1.5241 Billions USD. For the date 2020-09-30 was 1.5032 Billions USD. '),\n",
       " Document(metadata={'source': 'financials/SBUX_income_statement.csv', 'ticker_id': 'SBUX'}, page_content='The STARBUCKS Corp Reconciled Cost Of Revenue For the date 2023-09-30 was 26.0417 Billions USD. For the date 2022-09-30 was 23.7977 Billions USD. For the date 2021-09-30 was 20.5872 Billions USD. For the date 2020-09-30 was 18.387 Billions USD. '),\n",
       " Document(metadata={'source': 'financials/SBUX_income_statement.csv', 'ticker_id': 'SBUX'}, page_content='The STARBUCKS Corp EBITDA For the date 2023-09-30 was 7.4023 Billions USD. For the date 2022-09-30 was 6.2442 Billions USD. For the date 2021-09-30 was 7.3508 Billions USD. For the date 2020-09-30 was 3.1046 Billions USD. '),\n",
       " Document(metadata={'source': 'financials/SBUX_income_statement.csv', 'ticker_id': 'SBUX'}, page_content='The STARBUCKS Corp EBIT For the date 2023-09-30 was 5.952 Billions USD. For the date 2022-09-30 was 4.7148 Billions USD. For the date 2021-09-30 was 5.8267 Billions USD. For the date 2020-09-30 was 1.6014 Billions USD. '),\n",
       " Document(metadata={'source': 'financials/SBUX_income_statement.csv', 'ticker_id': 'SBUX'}, page_content='The STARBUCKS Corp Net Interest Income For the date 2023-09-30 was -0.4689 Billions USD. For the date 2022-09-30 was -0.3859 Billions USD. For the date 2021-09-30 was -0.3797 Billions USD. For the date 2020-09-30 was -0.3973 Billions USD. '),\n",
       " Document(metadata={'source': 'financials/SBUX_income_statement.csv', 'ticker_id': 'SBUX'}, page_content='The STARBUCKS Corp Interest Expense For the date 2023-09-30 was 0.5501 Billions USD. For the date 2022-09-30 was 0.4829 Billions USD. For the date 2021-09-30 was 0.4698 Billions USD. For the date 2020-09-30 was 0.437 Billions USD. '),\n",
       " Document(metadata={'source': 'financials/SBUX_income_statement.csv', 'ticker_id': 'SBUX'}, page_content='The STARBUCKS Corp Interest Income For the date 2023-09-30 was 0.0812 Billions USD. For the date 2022-09-30 was 0.097 Billions USD. For the date 2021-09-30 was 0.0901 Billions USD. For the date 2020-09-30 was 0.0397 Billions USD. '),\n",
       " Document(metadata={'source': 'financials/SBUX_income_statement.csv', 'ticker_id': 'SBUX'}, page_content='The STARBUCKS Corp Normalized Income For the date 2023-09-30 was 4.071402 Billions USD. For the date 2022-09-30 was 3.317296 Billions USD. For the date 2021-09-30 was 3.6551256 Billions USD. For the date 2020-09-30 was 1.1495878 Billions USD. '),\n",
       " Document(metadata={'source': 'financials/SBUX_income_statement.csv', 'ticker_id': 'SBUX'}, page_content='The STARBUCKS Corp Net Income From Continuing And Discontinued Operation For the date 2023-09-30 was 4.1245 Billions USD. For the date 2022-09-30 was 3.2816 Billions USD. For the date 2021-09-30 was 4.1993 Billions USD. For the date 2020-09-30 was 0.9283 Billions USD. '),\n",
       " Document(metadata={'source': 'financials/SBUX_income_statement.csv', 'ticker_id': 'SBUX'}, page_content='The STARBUCKS Corp Total Expenses For the date 2023-09-30 was 30.4727 Billions USD. For the date 2022-09-30 was 27.8206 Billions USD. For the date 2021-09-30 was 24.4034 Billions USD. For the date 2020-09-30 was 22.0001 Billions USD. '),\n",
       " Document(metadata={'source': 'financials/SBUX_income_statement.csv', 'ticker_id': 'SBUX'}, page_content='The STARBUCKS Corp Rent Expense Supplemental For the date 2023-09-30 was 2.871 Billions USD. For the date 2022-09-30 was 2.6741 Billions USD. For the date 2021-09-30 was 2.5615 Billions USD. For the date 2020-09-30 was 2.388 Billions USD. '),\n",
       " Document(metadata={'source': 'financials/SBUX_income_statement.csv', 'ticker_id': 'SBUX'}, page_content='The STARBUCKS Corp Total Operating Income As Reported For the date 2023-09-30 was 5.8708 Billions USD. For the date 2022-09-30 was 4.6178 Billions USD. For the date 2021-09-30 was 4.8721 Billions USD. For the date 2020-09-30 was 1.5617 Billions USD. '),\n",
       " Document(metadata={'source': 'financials/SBUX_income_statement.csv', 'ticker_id': 'SBUX'}, page_content='The STARBUCKS Corp Diluted Average Shares For the date 2023-09-30 was 1.1513 Billions USD. For the date 2022-09-30 was 1.1585 Billions USD. For the date 2021-09-30 was 1.1855 Billions USD. For the date 2020-09-30 was 1.1818 Billions USD. '),\n",
       " Document(metadata={'source': 'financials/SBUX_income_statement.csv', 'ticker_id': 'SBUX'}, page_content='The STARBUCKS Corp Basic Average Shares For the date 2023-09-30 was 1.1468 Billions USD. For the date 2022-09-30 was 1.1479 Billions USD. For the date 2021-09-30 was 1.18 Billions USD. For the date 2020-09-30 was 1.1733 Billions USD. '),\n",
       " Document(metadata={'source': 'financials/SBUX_income_statement.csv', 'ticker_id': 'SBUX'}, page_content='The STARBUCKS Corp Diluted EPS For the date 2023-09-30 was 3.58e-09 Billions USD. For the date 2022-09-30 was 2.83e-09 Billions USD. For the date 2021-09-30 was 3.54e-09 Billions USD. For the date 2020-09-30 was 7.900000000000001e-10 Billions USD. '),\n",
       " Document(metadata={'source': 'financials/SBUX_income_statement.csv', 'ticker_id': 'SBUX'}, page_content='The STARBUCKS Corp Basic EPS For the date 2023-09-30 was 3.6e-09 Billions USD. For the date 2022-09-30 was 2.860031e-09 Billions USD. For the date 2021-09-30 was 3.561445e-09 Billions USD. For the date 2020-09-30 was 7.91187e-10 Billions USD. '),\n",
       " Document(metadata={'source': 'financials/SBUX_income_statement.csv', 'ticker_id': 'SBUX'}, page_content='The STARBUCKS Corp Diluted NI Availto Com Stockholders For the date 2023-09-30 was 4.1245 Billions USD. For the date 2022-09-30 was 3.2816 Billions USD. For the date 2021-09-30 was 4.1993 Billions USD. For the date 2020-09-30 was 0.9283 Billions USD. '),\n",
       " Document(metadata={'source': 'financials/SBUX_income_statement.csv', 'ticker_id': 'SBUX'}, page_content='The STARBUCKS Corp Net Income Common Stockholders For the date 2023-09-30 was 4.1245 Billions USD. For the date 2022-09-30 was 3.2816 Billions USD. For the date 2021-09-30 was 4.1993 Billions USD. For the date 2020-09-30 was 0.9283 Billions USD. '),\n",
       " Document(metadata={'source': 'financials/SBUX_income_statement.csv', 'ticker_id': 'SBUX'}, page_content='The STARBUCKS Corp Net Income For the date 2023-09-30 was 4.1245 Billions USD. For the date 2022-09-30 was 3.2816 Billions USD. For the date 2021-09-30 was 4.1993 Billions USD. For the date 2020-09-30 was 0.9283 Billions USD. '),\n",
       " Document(metadata={'source': 'financials/SBUX_income_statement.csv', 'ticker_id': 'SBUX'}, page_content='The STARBUCKS Corp Minority Interests For the date 2023-09-30 was -0.0002 Billions USD. For the date 2022-09-30 was -0.0018 Billions USD. For the date 2021-09-30 was -0.001 Billions USD. For the date 2020-09-30 was 0.0036 Billions USD. '),\n",
       " Document(metadata={'source': 'financials/SBUX_income_statement.csv', 'ticker_id': 'SBUX'}, page_content='The STARBUCKS Corp Net Income Including Noncontrolling Interests For the date 2023-09-30 was 4.1247 Billions USD. For the date 2022-09-30 was 3.2834 Billions USD. For the date 2021-09-30 was 4.2003 Billions USD. For the date 2020-09-30 was 0.9247 Billions USD. '),\n",
       " Document(metadata={'source': 'financials/SBUX_income_statement.csv', 'ticker_id': 'SBUX'}, page_content='The STARBUCKS Corp Net Income Continuous Operations For the date 2023-09-30 was 4.1247 Billions USD. For the date 2022-09-30 was 3.2834 Billions USD. For the date 2021-09-30 was 4.2003 Billions USD. For the date 2020-09-30 was 0.9247 Billions USD. '),\n",
       " Document(metadata={'source': 'financials/SBUX_income_statement.csv', 'ticker_id': 'SBUX'}, page_content='The STARBUCKS Corp Tax Provision For the date 2023-09-30 was 1.2772 Billions USD. For the date 2022-09-30 was 0.9485 Billions USD. For the date 2021-09-30 was 1.1566 Billions USD. For the date 2020-09-30 was 0.2397 Billions USD. '),\n",
       " Document(metadata={'source': 'financials/SBUX_income_statement.csv', 'ticker_id': 'SBUX'}, page_content='The STARBUCKS Corp Pretax Income For the date 2023-09-30 was 5.4019 Billions USD. For the date 2022-09-30 was 4.2319 Billions USD. For the date 2021-09-30 was 5.3569 Billions USD. For the date 2020-09-30 was 1.1644 Billions USD. '),\n",
       " Document(metadata={'source': 'financials/SBUX_income_statement.csv', 'ticker_id': 'SBUX'}, page_content='The STARBUCKS Corp Other Income Expense For the date 2023-09-30 was 0.3679 Billions USD. For the date 2022-09-30 was 0.1881 Billions USD. For the date 2021-09-30 was 1.0794 Billions USD. For the date 2020-09-30 was 0.0438 Billions USD. '),\n",
       " Document(metadata={'source': 'financials/SBUX_income_statement.csv', 'ticker_id': 'SBUX'}, page_content='The STARBUCKS Corp Special Income Charges For the date 2023-09-30 was 0.0695 Billions USD. For the date 2022-09-30 was -0.046 Billions USD. For the date 2021-09-30 was 0.6941 Billions USD. For the date 2020-09-30 was -0.2787 Billions USD. '),\n",
       " Document(metadata={'source': 'financials/SBUX_income_statement.csv', 'ticker_id': 'SBUX'}, page_content='The STARBUCKS Corp Gain On Sale Of Ppe For the date 2023-09-30 was 0.0913 Billions USD. For the date 2022-09-30 was 0.0 Billions USD. For the date 2021-09-30 was 0.0 Billions USD. For the date 2020-09-30 was nan Billions USD. '),\n",
       " Document(metadata={'source': 'financials/SBUX_income_statement.csv', 'ticker_id': 'SBUX'}, page_content='The STARBUCKS Corp Gain On Sale Of Business For the date 2023-09-30 was 0.0 Billions USD. For the date 2022-09-30 was 0.0 Billions USD. For the date 2021-09-30 was 0.8645 Billions USD. For the date 2020-09-30 was 0.0 Billions USD. '),\n",
       " Document(metadata={'source': 'financials/SBUX_income_statement.csv', 'ticker_id': 'SBUX'}, page_content='The STARBUCKS Corp Restructuring And Mergern Acquisition For the date 2023-09-30 was 0.0218 Billions USD. For the date 2022-09-30 was 0.046 Billions USD. For the date 2021-09-30 was 0.1704 Billions USD. For the date 2020-09-30 was 0.2787 Billions USD. '),\n",
       " Document(metadata={'source': 'financials/SBUX_income_statement.csv', 'ticker_id': 'SBUX'}, page_content='The STARBUCKS Corp Earnings From Equity Interest For the date 2023-09-30 was 0.2984 Billions USD. For the date 2022-09-30 was 0.2341 Billions USD. For the date 2021-09-30 was 0.3853 Billions USD. For the date 2020-09-30 was 0.3225 Billions USD. '),\n",
       " Document(metadata={'source': 'financials/SBUX_income_statement.csv', 'ticker_id': 'SBUX'}, page_content='The STARBUCKS Corp Net Non Operating Interest Income Expense For the date 2023-09-30 was -0.4689 Billions USD. For the date 2022-09-30 was -0.3859 Billions USD. For the date 2021-09-30 was -0.3797 Billions USD. For the date 2020-09-30 was -0.3973 Billions USD. '),\n",
       " Document(metadata={'source': 'financials/SBUX_income_statement.csv', 'ticker_id': 'SBUX'}, page_content='The STARBUCKS Corp Interest Expense Non Operating For the date 2023-09-30 was 0.5501 Billions USD. For the date 2022-09-30 was 0.4829 Billions USD. For the date 2021-09-30 was 0.4698 Billions USD. For the date 2020-09-30 was 0.437 Billions USD. '),\n",
       " Document(metadata={'source': 'financials/SBUX_income_statement.csv', 'ticker_id': 'SBUX'}, page_content='The STARBUCKS Corp Interest Income Non Operating For the date 2023-09-30 was 0.0812 Billions USD. For the date 2022-09-30 was 0.097 Billions USD. For the date 2021-09-30 was 0.0901 Billions USD. For the date 2020-09-30 was 0.0397 Billions USD. '),\n",
       " Document(metadata={'source': 'financials/SBUX_income_statement.csv', 'ticker_id': 'SBUX'}, page_content='The STARBUCKS Corp Operating Income For the date 2023-09-30 was 5.5029 Billions USD. For the date 2022-09-30 was 4.4297 Billions USD. For the date 2021-09-30 was 4.6572 Billions USD. For the date 2020-09-30 was 1.5179 Billions USD. '),\n",
       " Document(metadata={'source': 'financials/SBUX_income_statement.csv', 'ticker_id': 'SBUX'}, page_content='The STARBUCKS Corp Operating Expense For the date 2023-09-30 was 4.3433 Billions USD. For the date 2022-09-30 was 3.9414 Billions USD. For the date 2021-09-30 was 3.7338 Billions USD. For the date 2020-09-30 was 3.5412 Billions USD. '),\n",
       " Document(metadata={'source': 'financials/SBUX_income_statement.csv', 'ticker_id': 'SBUX'}, page_content='The STARBUCKS Corp Other Operating Expenses For the date 2023-09-30 was 0.5394 Billions USD. For the date 2022-09-30 was 0.4615 Billions USD. For the date 2021-09-30 was 0.3595 Billions USD. For the date 2020-09-30 was 0.4303 Billions USD. '),\n",
       " Document(metadata={'source': 'financials/SBUX_income_statement.csv', 'ticker_id': 'SBUX'}, page_content='The STARBUCKS Corp Depreciation Amortization Depletion Income Statement For the date 2023-09-30 was 1.3626 Billions USD. For the date 2022-09-30 was 1.4479 Billions USD. For the date 2021-09-30 was 1.4417 Billions USD. For the date 2020-09-30 was 1.4313 Billions USD. '),\n",
       " Document(metadata={'source': 'financials/SBUX_income_statement.csv', 'ticker_id': 'SBUX'}, page_content='The STARBUCKS Corp Depreciation And Amortization In Income Statement For the date 2023-09-30 was 1.3626 Billions USD. For the date 2022-09-30 was 1.4479 Billions USD. For the date 2021-09-30 was 1.4417 Billions USD. For the date 2020-09-30 was 1.4313 Billions USD. '),\n",
       " Document(metadata={'source': 'financials/SBUX_income_statement.csv', 'ticker_id': 'SBUX'}, page_content='The STARBUCKS Corp Selling General And Administration For the date 2023-09-30 was 2.4413 Billions USD. For the date 2022-09-30 was 2.032 Billions USD. For the date 2021-09-30 was 1.9326 Billions USD. For the date 2020-09-30 was 1.6796 Billions USD. '),\n",
       " Document(metadata={'source': 'financials/SBUX_income_statement.csv', 'ticker_id': 'SBUX'}, page_content='The STARBUCKS Corp General And Administrative Expense For the date 2023-09-30 was 2.4413 Billions USD. For the date 2022-09-30 was 2.032 Billions USD. For the date 2021-09-30 was 1.9326 Billions USD. For the date 2020-09-30 was 1.6796 Billions USD. '),\n",
       " Document(metadata={'source': 'financials/SBUX_income_statement.csv', 'ticker_id': 'SBUX'}, page_content='The STARBUCKS Corp Other Gand A For the date 2023-09-30 was 2.4413 Billions USD. For the date 2022-09-30 was 2.032 Billions USD. For the date 2021-09-30 was 1.9326 Billions USD. For the date 2020-09-30 was 1.6796 Billions USD. '),\n",
       " Document(metadata={'source': 'financials/SBUX_income_statement.csv', 'ticker_id': 'SBUX'}, page_content='The STARBUCKS Corp Gross Profit For the date 2023-09-30 was 9.8462 Billions USD. For the date 2022-09-30 was 8.3711 Billions USD. For the date 2021-09-30 was 8.391 Billions USD. For the date 2020-09-30 was 5.0591 Billions USD. '),\n",
       " Document(metadata={'source': 'financials/SBUX_income_statement.csv', 'ticker_id': 'SBUX'}, page_content='The STARBUCKS Corp Cost Of Revenue For the date 2023-09-30 was 26.1294 Billions USD. For the date 2022-09-30 was 23.8792 Billions USD. For the date 2021-09-30 was 20.6696 Billions USD. For the date 2020-09-30 was 18.4589 Billions USD. '),\n",
       " Document(metadata={'source': 'financials/SBUX_income_statement.csv', 'ticker_id': 'SBUX'}, page_content='The STARBUCKS Corp Total Revenue For the date 2023-09-30 was 35.9756 Billions USD. For the date 2022-09-30 was 32.2503 Billions USD. For the date 2021-09-30 was 29.0606 Billions USD. For the date 2020-09-30 was 23.518 Billions USD. '),\n",
       " Document(metadata={'source': 'financials/SBUX_income_statement.csv', 'ticker_id': 'SBUX'}, page_content='The STARBUCKS Corp Operating Revenue For the date 2023-09-30 was 33.975 Billions USD. For the date 2022-09-30 was 30.2316 Billions USD. For the date 2021-09-30 was 27.2906 Billions USD. For the date 2020-09-30 was 21.4917 Billions USD. ')]"
      ]
     },
     "execution_count": 64,
     "metadata": {},
     "output_type": "execute_result"
    }
   ],
   "execution_count": 64
  },
  {
   "metadata": {},
   "cell_type": "markdown",
   "source": "### Load Embedding Model for Vectorization",
   "id": "3b9a921d61cf0929"
  },
  {
   "metadata": {
    "ExecuteTime": {
     "end_time": "2024-10-26T15:43:14.300256Z",
     "start_time": "2024-10-26T15:43:13.550888Z"
    }
   },
   "cell_type": "code",
   "source": [
    "from langchain_openai.embeddings import OpenAIEmbeddings\n",
    "\n",
    "embeddings = OpenAIEmbeddings(api_key=OPENAI_API_KEY, model='text-embedding-ada-002')"
   ],
   "id": "4c0ac70556989af7",
   "outputs": [],
   "execution_count": 65
  },
  {
   "metadata": {},
   "cell_type": "markdown",
   "source": "### Loading Data into PineCone Vector Database",
   "id": "254dd9691b577f7e"
  },
  {
   "metadata": {
    "ExecuteTime": {
     "end_time": "2024-10-26T15:43:19.228144Z",
     "start_time": "2024-10-26T15:43:14.344257Z"
    }
   },
   "cell_type": "code",
   "source": [
    "from tqdm.autonotebook import tqdm\n",
    "from langchain_pinecone import PineconeVectorStore\n",
    "\n",
    "index_name = PINECONE_INDEX_NAME\n",
    "\n",
    "pinecone = PineconeVectorStore.from_documents(\n",
    "    financial_documents, embeddings, index_name=index_name\n",
    ")"
   ],
   "id": "19739fae97bfcd3a",
   "outputs": [],
   "execution_count": 66
  }
 ],
 "metadata": {
  "kernelspec": {
   "display_name": "Python 3",
   "language": "python",
   "name": "python3"
  },
  "language_info": {
   "codemirror_mode": {
    "name": "ipython",
    "version": 2
   },
   "file_extension": ".py",
   "mimetype": "text/x-python",
   "name": "python",
   "nbconvert_exporter": "python",
   "pygments_lexer": "ipython2",
   "version": "2.7.6"
  }
 },
 "nbformat": 4,
 "nbformat_minor": 5
}
