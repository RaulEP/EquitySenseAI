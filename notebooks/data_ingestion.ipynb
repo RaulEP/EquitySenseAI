{
 "cells": [
  {
   "metadata": {},
   "cell_type": "markdown",
   "source": "## Data Ingestion | Preprocessing | Vectorization Pipeline ",
   "id": "2cc9fb01f6d98ecc"
  },
  {
   "metadata": {
    "ExecuteTime": {
     "end_time": "2024-10-30T19:17:19.776764Z",
     "start_time": "2024-10-30T19:17:19.687257Z"
    }
   },
   "cell_type": "code",
   "source": [
    "import os\n",
    "\n",
    "ROOT_DIR = 'C:\\Development\\EquitySenseAI'\n",
    "os.chdir(ROOT_DIR)"
   ],
   "id": "b3fe7648ca628b73",
   "outputs": [],
   "execution_count": 12
  },
  {
   "metadata": {
    "ExecuteTime": {
     "end_time": "2024-10-30T19:17:21.405651Z",
     "start_time": "2024-10-30T19:17:21.359236Z"
    }
   },
   "cell_type": "code",
   "source": [
    "from dotenv import load_dotenv, find_dotenv\n",
    "\n",
    "DOT_ENV_PATH = find_dotenv()\n",
    "\n",
    "load_dotenv(DOT_ENV_PATH)"
   ],
   "id": "40fe1d49ce97a1ce",
   "outputs": [
    {
     "data": {
      "text/plain": [
       "True"
      ]
     },
     "execution_count": 13,
     "metadata": {},
     "output_type": "execute_result"
    }
   ],
   "execution_count": 13
  },
  {
   "metadata": {
    "ExecuteTime": {
     "end_time": "2024-10-30T19:18:23.603596Z",
     "start_time": "2024-10-30T19:18:23.593939Z"
    }
   },
   "cell_type": "code",
   "source": [
    "OPENAI_API_KEY = os.getenv(\"OPENAI_API_KEY\")\n",
    "PINECONE_API_KEY = os.getenv(\"PINECONE_API_KEY\")\n",
    "TICKER_ID = \"META\"\n",
    "COMPANY_NAME = \"Meta Inc\"\n",
    "PINECONE_INDEX_NAME = \"equity-sense-vdb\"\n",
    "SOURCE_FILE = 'financials/{}_income_statement.csv'.format(TICKER_ID)"
   ],
   "id": "eebc03127d693520",
   "outputs": [],
   "execution_count": 14
  },
  {
   "metadata": {},
   "cell_type": "markdown",
   "source": "### Preprocess Income Statement CSV Data",
   "id": "8f4d5f4277885b24"
  },
  {
   "metadata": {
    "ExecuteTime": {
     "end_time": "2024-10-30T19:18:26.208441Z",
     "start_time": "2024-10-30T19:18:26.144736Z"
    }
   },
   "cell_type": "code",
   "source": [
    "import pandas as pd\n",
    "\n",
    "# Change Column Name for Better Readability\n",
    "income_data = pd.read_csv(SOURCE_FILE)\n",
    "income_data.rename({'Unnamed: 0':'Feature'}, axis=1, inplace=True)"
   ],
   "id": "17b69073e5039414",
   "outputs": [],
   "execution_count": 15
  },
  {
   "metadata": {
    "ExecuteTime": {
     "end_time": "2024-10-30T19:18:28.575646Z",
     "start_time": "2024-10-30T19:18:28.522295Z"
    }
   },
   "cell_type": "code",
   "source": [
    "features = income_data['Feature'].unique()\n",
    "\n",
    "income_per_feature = {}\n",
    "for feature in features:\n",
    "    year = income_data[income_data['Feature'] == feature]\n",
    "    income_per_feature[feature] = year\n",
    "\n",
    "income_per_feature['Tax Effect Of Unusual Items']"
   ],
   "id": "b761d076a7459aed",
   "outputs": [
    {
     "data": {
      "text/plain": [
       "                       Feature  2023-12-31  2022-12-31  2021-12-31  \\\n",
       "0  Tax Effect Of Unusual Items -64416000.0 -15795000.0 -23380000.0   \n",
       "\n",
       "   2020-12-31  2019-12-31  \n",
       "0 -15738000.0         NaN  "
      ],
      "text/html": [
       "<div>\n",
       "<style scoped>\n",
       "    .dataframe tbody tr th:only-of-type {\n",
       "        vertical-align: middle;\n",
       "    }\n",
       "\n",
       "    .dataframe tbody tr th {\n",
       "        vertical-align: top;\n",
       "    }\n",
       "\n",
       "    .dataframe thead th {\n",
       "        text-align: right;\n",
       "    }\n",
       "</style>\n",
       "<table border=\"1\" class=\"dataframe\">\n",
       "  <thead>\n",
       "    <tr style=\"text-align: right;\">\n",
       "      <th></th>\n",
       "      <th>Feature</th>\n",
       "      <th>2023-12-31</th>\n",
       "      <th>2022-12-31</th>\n",
       "      <th>2021-12-31</th>\n",
       "      <th>2020-12-31</th>\n",
       "      <th>2019-12-31</th>\n",
       "    </tr>\n",
       "  </thead>\n",
       "  <tbody>\n",
       "    <tr>\n",
       "      <th>0</th>\n",
       "      <td>Tax Effect Of Unusual Items</td>\n",
       "      <td>-64416000.0</td>\n",
       "      <td>-15795000.0</td>\n",
       "      <td>-23380000.0</td>\n",
       "      <td>-15738000.0</td>\n",
       "      <td>NaN</td>\n",
       "    </tr>\n",
       "  </tbody>\n",
       "</table>\n",
       "</div>"
      ]
     },
     "execution_count": 16,
     "metadata": {},
     "output_type": "execute_result"
    }
   ],
   "execution_count": 16
  },
  {
   "metadata": {
    "ExecuteTime": {
     "end_time": "2024-10-30T19:18:44.036202Z",
     "start_time": "2024-10-30T19:18:44.015796Z"
    }
   },
   "cell_type": "code",
   "source": [
    "features = list(income_per_feature.keys())\n",
    "features"
   ],
   "id": "1e4a43e42e3c498b",
   "outputs": [
    {
     "data": {
      "text/plain": [
       "['Tax Effect Of Unusual Items',\n",
       " 'Tax Rate For Calcs',\n",
       " 'Normalized EBITDA',\n",
       " 'Total Unusual Items',\n",
       " 'Total Unusual Items Excluding Goodwill',\n",
       " 'Net Income From Continuing Operation Net Minority Interest',\n",
       " 'Reconciled Depreciation',\n",
       " 'Reconciled Cost Of Revenue',\n",
       " 'EBITDA',\n",
       " 'EBIT',\n",
       " 'Net Interest Income',\n",
       " 'Interest Expense',\n",
       " 'Interest Income',\n",
       " 'Normalized Income',\n",
       " 'Net Income From Continuing And Discontinued Operation',\n",
       " 'Total Expenses',\n",
       " 'Total Operating Income As Reported',\n",
       " 'Diluted Average Shares',\n",
       " 'Basic Average Shares',\n",
       " 'Diluted EPS',\n",
       " 'Basic EPS',\n",
       " 'Diluted NI Availto Com Stockholders',\n",
       " 'Average Dilution Earnings',\n",
       " 'Net Income Common Stockholders',\n",
       " 'Otherunder Preferred Stock Dividend',\n",
       " 'Net Income',\n",
       " 'Net Income Including Noncontrolling Interests',\n",
       " 'Net Income Continuous Operations',\n",
       " 'Tax Provision',\n",
       " 'Pretax Income',\n",
       " 'Other Income Expense',\n",
       " 'Other Non Operating Income Expenses',\n",
       " 'Gain On Sale Of Security',\n",
       " 'Net Non Operating Interest Income Expense',\n",
       " 'Total Other Finance Cost',\n",
       " 'Interest Expense Non Operating',\n",
       " 'Interest Income Non Operating',\n",
       " 'Operating Income',\n",
       " 'Operating Expense',\n",
       " 'Research And Development',\n",
       " 'Selling General And Administration',\n",
       " 'Selling And Marketing Expense',\n",
       " 'General And Administrative Expense',\n",
       " 'Other Gand A',\n",
       " 'Gross Profit',\n",
       " 'Cost Of Revenue',\n",
       " 'Total Revenue',\n",
       " 'Operating Revenue']"
      ]
     },
     "execution_count": 17,
     "metadata": {},
     "output_type": "execute_result"
    }
   ],
   "execution_count": 17
  },
  {
   "metadata": {
    "ExecuteTime": {
     "end_time": "2024-10-30T19:18:55.877672Z",
     "start_time": "2024-10-30T19:18:55.869023Z"
    }
   },
   "cell_type": "code",
   "source": [
    "years = list(income_per_feature['Total Revenue'].columns[1:])\n",
    "years"
   ],
   "id": "43cfb86efd51032f",
   "outputs": [
    {
     "data": {
      "text/plain": [
       "['2023-12-31', '2022-12-31', '2021-12-31', '2020-12-31', '2019-12-31']"
      ]
     },
     "execution_count": 18,
     "metadata": {},
     "output_type": "execute_result"
    }
   ],
   "execution_count": 18
  },
  {
   "metadata": {},
   "cell_type": "markdown",
   "source": "### Data Transformation into Descriptive Rows with Financial Information for each feature. ",
   "id": "e9116acf83684b57"
  },
  {
   "metadata": {
    "ExecuteTime": {
     "end_time": "2024-10-30T19:19:10.233565Z",
     "start_time": "2024-10-30T19:19:10.190048Z"
    }
   },
   "cell_type": "code",
   "source": [
    "financial_data_list = []\n",
    "for feature in features:\n",
    "    content = \"The {0} {1} \".format(COMPANY_NAME,feature)\n",
    "    filtered = income_per_feature[feature]\n",
    "    for year in years:\n",
    "        content += \"For the date {0}\".format(year)\n",
    "        row_value = filtered[year].reset_index(drop=True)[0] / 1000000000\n",
    "        row = \" was {0} Billions USD. \".format(row_value)\n",
    "        content += row\n",
    "    financial_data_list.append(content)\n",
    "financial_data_list[:5]"
   ],
   "id": "a46ef4b7b93ca26c",
   "outputs": [
    {
     "data": {
      "text/plain": [
       "['The Meta Inc Tax Effect Of Unusual Items For the date 2023-12-31 was -0.064416 Billions USD. For the date 2022-12-31 was -0.015795 Billions USD. For the date 2021-12-31 was -0.02338 Billions USD. For the date 2020-12-31 was -0.015738 Billions USD. For the date 2019-12-31 was nan Billions USD. ',\n",
       " 'The Meta Inc Tax Rate For Calcs For the date 2023-12-31 was 1.7599999999999999e-10 Billions USD. For the date 2022-12-31 was 1.95e-10 Billions USD. For the date 2021-12-31 was 1.6700000000000002e-10 Billions USD. For the date 2020-12-31 was 1.22e-10 Billions USD. For the date 2019-12-31 was nan Billions USD. ',\n",
       " 'The Meta Inc Normalized EBITDA For the date 2023-12-31 was 59.418 Billions USD. For the date 2022-12-31 was 37.771 Billions USD. For the date 2021-12-31 was 55.414 Billions USD. For the date 2020-12-31 was 39.662 Billions USD. For the date 2019-12-31 was nan Billions USD. ',\n",
       " 'The Meta Inc Total Unusual Items For the date 2023-12-31 was -0.366 Billions USD. For the date 2022-12-31 was -0.081 Billions USD. For the date 2021-12-31 was -0.14 Billions USD. For the date 2020-12-31 was -0.129 Billions USD. For the date 2019-12-31 was nan Billions USD. ',\n",
       " 'The Meta Inc Total Unusual Items Excluding Goodwill For the date 2023-12-31 was -0.366 Billions USD. For the date 2022-12-31 was -0.081 Billions USD. For the date 2021-12-31 was -0.14 Billions USD. For the date 2020-12-31 was -0.129 Billions USD. For the date 2019-12-31 was nan Billions USD. ']"
      ]
     },
     "execution_count": 19,
     "metadata": {},
     "output_type": "execute_result"
    }
   ],
   "execution_count": 19
  },
  {
   "metadata": {},
   "cell_type": "markdown",
   "source": "This are the first 5 rows for our new financial data python List.",
   "id": "c8a826b611bb9bb6"
  },
  {
   "metadata": {},
   "cell_type": "markdown",
   "source": "### Convert list into LangChain Document Schema prior to Vectorization",
   "id": "b8aea72cd827d8b0"
  },
  {
   "metadata": {
    "ExecuteTime": {
     "end_time": "2024-10-30T19:20:35.126681Z",
     "start_time": "2024-10-30T19:20:35.113207Z"
    }
   },
   "cell_type": "code",
   "source": [
    "from langchain.schema import Document\n",
    "\n",
    "ticker_metadata = {\"source\": SOURCE_FILE, \"ticker_id\": TICKER_ID}\n",
    "\n",
    "# Convert list of strings into LangChain Documents\n",
    "financial_documents = [Document(page_content=row,metadata=ticker_metadata) for row in financial_data_list]\n",
    "financial_documents"
   ],
   "id": "59ffa9b139de6cda",
   "outputs": [
    {
     "data": {
      "text/plain": [
       "[Document(metadata={'source': 'financials/META_income_statement.csv', 'ticker_id': 'META'}, page_content='The Meta Inc Tax Effect Of Unusual Items For the date 2023-12-31 was -0.064416 Billions USD. For the date 2022-12-31 was -0.015795 Billions USD. For the date 2021-12-31 was -0.02338 Billions USD. For the date 2020-12-31 was -0.015738 Billions USD. For the date 2019-12-31 was nan Billions USD. '),\n",
       " Document(metadata={'source': 'financials/META_income_statement.csv', 'ticker_id': 'META'}, page_content='The Meta Inc Tax Rate For Calcs For the date 2023-12-31 was 1.7599999999999999e-10 Billions USD. For the date 2022-12-31 was 1.95e-10 Billions USD. For the date 2021-12-31 was 1.6700000000000002e-10 Billions USD. For the date 2020-12-31 was 1.22e-10 Billions USD. For the date 2019-12-31 was nan Billions USD. '),\n",
       " Document(metadata={'source': 'financials/META_income_statement.csv', 'ticker_id': 'META'}, page_content='The Meta Inc Normalized EBITDA For the date 2023-12-31 was 59.418 Billions USD. For the date 2022-12-31 was 37.771 Billions USD. For the date 2021-12-31 was 55.414 Billions USD. For the date 2020-12-31 was 39.662 Billions USD. For the date 2019-12-31 was nan Billions USD. '),\n",
       " Document(metadata={'source': 'financials/META_income_statement.csv', 'ticker_id': 'META'}, page_content='The Meta Inc Total Unusual Items For the date 2023-12-31 was -0.366 Billions USD. For the date 2022-12-31 was -0.081 Billions USD. For the date 2021-12-31 was -0.14 Billions USD. For the date 2020-12-31 was -0.129 Billions USD. For the date 2019-12-31 was nan Billions USD. '),\n",
       " Document(metadata={'source': 'financials/META_income_statement.csv', 'ticker_id': 'META'}, page_content='The Meta Inc Total Unusual Items Excluding Goodwill For the date 2023-12-31 was -0.366 Billions USD. For the date 2022-12-31 was -0.081 Billions USD. For the date 2021-12-31 was -0.14 Billions USD. For the date 2020-12-31 was -0.129 Billions USD. For the date 2019-12-31 was nan Billions USD. '),\n",
       " Document(metadata={'source': 'financials/META_income_statement.csv', 'ticker_id': 'META'}, page_content='The Meta Inc Net Income From Continuing Operation Net Minority Interest For the date 2023-12-31 was 39.098 Billions USD. For the date 2022-12-31 was 23.2 Billions USD. For the date 2021-12-31 was 39.37 Billions USD. For the date 2020-12-31 was 29.146 Billions USD. For the date 2019-12-31 was nan Billions USD. '),\n",
       " Document(metadata={'source': 'financials/META_income_statement.csv', 'ticker_id': 'META'}, page_content='The Meta Inc Reconciled Depreciation For the date 2023-12-31 was 11.178 Billions USD. For the date 2022-12-31 was 8.686 Billions USD. For the date 2021-12-31 was 7.967 Billions USD. For the date 2020-12-31 was 6.862 Billions USD. For the date 2019-12-31 was nan Billions USD. '),\n",
       " Document(metadata={'source': 'financials/META_income_statement.csv', 'ticker_id': 'META'}, page_content='The Meta Inc Reconciled Cost Of Revenue For the date 2023-12-31 was 25.959 Billions USD. For the date 2022-12-31 was 25.249 Billions USD. For the date 2021-12-31 was 22.649 Billions USD. For the date 2020-12-31 was 16.692 Billions USD. For the date 2019-12-31 was nan Billions USD. '),\n",
       " Document(metadata={'source': 'financials/META_income_statement.csv', 'ticker_id': 'META'}, page_content='The Meta Inc EBITDA For the date 2023-12-31 was 59.052 Billions USD. For the date 2022-12-31 was 37.69 Billions USD. For the date 2021-12-31 was 55.274 Billions USD. For the date 2020-12-31 was 39.533 Billions USD. For the date 2019-12-31 was nan Billions USD. '),\n",
       " Document(metadata={'source': 'financials/META_income_statement.csv', 'ticker_id': 'META'}, page_content='The Meta Inc EBIT For the date 2023-12-31 was 47.874 Billions USD. For the date 2022-12-31 was 29.004 Billions USD. For the date 2021-12-31 was 47.307 Billions USD. For the date 2020-12-31 was 32.671 Billions USD. For the date 2019-12-31 was nan Billions USD. '),\n",
       " Document(metadata={'source': 'financials/META_income_statement.csv', 'ticker_id': 'META'}, page_content='The Meta Inc Net Interest Income For the date 2023-12-31 was 1.043 Billions USD. For the date 2022-12-31 was -0.044 Billions USD. For the date 2021-12-31 was 0.671 Billions USD. For the date 2020-12-31 was 0.638 Billions USD. For the date 2019-12-31 was nan Billions USD. '),\n",
       " Document(metadata={'source': 'financials/META_income_statement.csv', 'ticker_id': 'META'}, page_content='The Meta Inc Interest Expense For the date 2023-12-31 was 0.446 Billions USD. For the date 2022-12-31 was 0.185 Billions USD. For the date 2021-12-31 was 0.023 Billions USD. For the date 2020-12-31 was nan Billions USD. For the date 2019-12-31 was 0.02 Billions USD. '),\n",
       " Document(metadata={'source': 'financials/META_income_statement.csv', 'ticker_id': 'META'}, page_content='The Meta Inc Interest Income For the date 2023-12-31 was 1.639 Billions USD. For the date 2022-12-31 was 0.461 Billions USD. For the date 2021-12-31 was 0.484 Billions USD. For the date 2020-12-31 was 0.672 Billions USD. For the date 2019-12-31 was nan Billions USD. '),\n",
       " Document(metadata={'source': 'financials/META_income_statement.csv', 'ticker_id': 'META'}, page_content='The Meta Inc Normalized Income For the date 2023-12-31 was 39.399584 Billions USD. For the date 2022-12-31 was 23.265205 Billions USD. For the date 2021-12-31 was 39.48662 Billions USD. For the date 2020-12-31 was 29.259262 Billions USD. For the date 2019-12-31 was nan Billions USD. '),\n",
       " Document(metadata={'source': 'financials/META_income_statement.csv', 'ticker_id': 'META'}, page_content='The Meta Inc Net Income From Continuing And Discontinued Operation For the date 2023-12-31 was 39.098 Billions USD. For the date 2022-12-31 was 23.2 Billions USD. For the date 2021-12-31 was 39.37 Billions USD. For the date 2020-12-31 was 29.146 Billions USD. For the date 2019-12-31 was nan Billions USD. '),\n",
       " Document(metadata={'source': 'financials/META_income_statement.csv', 'ticker_id': 'META'}, page_content='The Meta Inc Total Expenses For the date 2023-12-31 was 88.151 Billions USD. For the date 2022-12-31 was 87.665 Billions USD. For the date 2021-12-31 was 71.176 Billions USD. For the date 2020-12-31 was 53.294 Billions USD. For the date 2019-12-31 was nan Billions USD. '),\n",
       " Document(metadata={'source': 'financials/META_income_statement.csv', 'ticker_id': 'META'}, page_content='The Meta Inc Total Operating Income As Reported For the date 2023-12-31 was 46.751 Billions USD. For the date 2022-12-31 was 28.944 Billions USD. For the date 2021-12-31 was 46.753 Billions USD. For the date 2020-12-31 was 32.671 Billions USD. For the date 2019-12-31 was nan Billions USD. '),\n",
       " Document(metadata={'source': 'financials/META_income_statement.csv', 'ticker_id': 'META'}, page_content='The Meta Inc Diluted Average Shares For the date 2023-12-31 was 2.629 Billions USD. For the date 2022-12-31 was 2.702 Billions USD. For the date 2021-12-31 was 2.859 Billions USD. For the date 2020-12-31 was 2.888 Billions USD. For the date 2019-12-31 was nan Billions USD. '),\n",
       " Document(metadata={'source': 'financials/META_income_statement.csv', 'ticker_id': 'META'}, page_content='The Meta Inc Basic Average Shares For the date 2023-12-31 was 2.574 Billions USD. For the date 2022-12-31 was 2.687 Billions USD. For the date 2021-12-31 was 2.815 Billions USD. For the date 2020-12-31 was 2.851 Billions USD. For the date 2019-12-31 was nan Billions USD. '),\n",
       " Document(metadata={'source': 'financials/META_income_statement.csv', 'ticker_id': 'META'}, page_content='The Meta Inc Diluted EPS For the date 2023-12-31 was 1.4869999999999998e-08 Billions USD. For the date 2022-12-31 was 8.59e-09 Billions USD. For the date 2021-12-31 was 1.377e-08 Billions USD. For the date 2020-12-31 was 1.009e-08 Billions USD. For the date 2019-12-31 was nan Billions USD. '),\n",
       " Document(metadata={'source': 'financials/META_income_statement.csv', 'ticker_id': 'META'}, page_content='The Meta Inc Basic EPS For the date 2023-12-31 was 1.519e-08 Billions USD. For the date 2022-12-31 was 8.63e-09 Billions USD. For the date 2021-12-31 was 1.399e-08 Billions USD. For the date 2020-12-31 was 1.022e-08 Billions USD. For the date 2019-12-31 was nan Billions USD. '),\n",
       " Document(metadata={'source': 'financials/META_income_statement.csv', 'ticker_id': 'META'}, page_content='The Meta Inc Diluted NI Availto Com Stockholders For the date 2023-12-31 was 39.098 Billions USD. For the date 2022-12-31 was 23.2 Billions USD. For the date 2021-12-31 was 39.37 Billions USD. For the date 2020-12-31 was 29.146 Billions USD. For the date 2019-12-31 was nan Billions USD. '),\n",
       " Document(metadata={'source': 'financials/META_income_statement.csv', 'ticker_id': 'META'}, page_content='The Meta Inc Average Dilution Earnings For the date 2023-12-31 was nan Billions USD. For the date 2022-12-31 was nan Billions USD. For the date 2021-12-31 was nan Billions USD. For the date 2020-12-31 was nan Billions USD. For the date 2019-12-31 was 0.0 Billions USD. '),\n",
       " Document(metadata={'source': 'financials/META_income_statement.csv', 'ticker_id': 'META'}, page_content='The Meta Inc Net Income Common Stockholders For the date 2023-12-31 was 39.098 Billions USD. For the date 2022-12-31 was 23.2 Billions USD. For the date 2021-12-31 was 39.37 Billions USD. For the date 2020-12-31 was 29.146 Billions USD. For the date 2019-12-31 was nan Billions USD. '),\n",
       " Document(metadata={'source': 'financials/META_income_statement.csv', 'ticker_id': 'META'}, page_content='The Meta Inc Otherunder Preferred Stock Dividend For the date 2023-12-31 was nan Billions USD. For the date 2022-12-31 was nan Billions USD. For the date 2021-12-31 was nan Billions USD. For the date 2020-12-31 was 0.0 Billions USD. For the date 2019-12-31 was 0.0 Billions USD. '),\n",
       " Document(metadata={'source': 'financials/META_income_statement.csv', 'ticker_id': 'META'}, page_content='The Meta Inc Net Income For the date 2023-12-31 was 39.098 Billions USD. For the date 2022-12-31 was 23.2 Billions USD. For the date 2021-12-31 was 39.37 Billions USD. For the date 2020-12-31 was 29.146 Billions USD. For the date 2019-12-31 was nan Billions USD. '),\n",
       " Document(metadata={'source': 'financials/META_income_statement.csv', 'ticker_id': 'META'}, page_content='The Meta Inc Net Income Including Noncontrolling Interests For the date 2023-12-31 was 39.098 Billions USD. For the date 2022-12-31 was 23.2 Billions USD. For the date 2021-12-31 was 39.37 Billions USD. For the date 2020-12-31 was 29.146 Billions USD. For the date 2019-12-31 was nan Billions USD. '),\n",
       " Document(metadata={'source': 'financials/META_income_statement.csv', 'ticker_id': 'META'}, page_content='The Meta Inc Net Income Continuous Operations For the date 2023-12-31 was 39.098 Billions USD. For the date 2022-12-31 was 23.2 Billions USD. For the date 2021-12-31 was 39.37 Billions USD. For the date 2020-12-31 was 29.146 Billions USD. For the date 2019-12-31 was nan Billions USD. '),\n",
       " Document(metadata={'source': 'financials/META_income_statement.csv', 'ticker_id': 'META'}, page_content='The Meta Inc Tax Provision For the date 2023-12-31 was 8.33 Billions USD. For the date 2022-12-31 was 5.619 Billions USD. For the date 2021-12-31 was 7.914 Billions USD. For the date 2020-12-31 was 4.034 Billions USD. For the date 2019-12-31 was nan Billions USD. '),\n",
       " Document(metadata={'source': 'financials/META_income_statement.csv', 'ticker_id': 'META'}, page_content='The Meta Inc Pretax Income For the date 2023-12-31 was 47.428 Billions USD. For the date 2022-12-31 was 28.819 Billions USD. For the date 2021-12-31 was 47.284 Billions USD. For the date 2020-12-31 was 33.18 Billions USD. For the date 2019-12-31 was nan Billions USD. '),\n",
       " Document(metadata={'source': 'financials/META_income_statement.csv', 'ticker_id': 'META'}, page_content='The Meta Inc Other Income Expense For the date 2023-12-31 was -0.366 Billions USD. For the date 2022-12-31 was -0.081 Billions USD. For the date 2021-12-31 was -0.14 Billions USD. For the date 2020-12-31 was -0.129 Billions USD. For the date 2019-12-31 was nan Billions USD. '),\n",
       " Document(metadata={'source': 'financials/META_income_statement.csv', 'ticker_id': 'META'}, page_content='The Meta Inc Other Non Operating Income Expenses For the date 2023-12-31 was nan Billions USD. For the date 2022-12-31 was -0.32 Billions USD. For the date 2021-12-31 was 0.21 Billions USD. For the date 2020-12-31 was -0.034 Billions USD. For the date 2019-12-31 was 0.027 Billions USD. '),\n",
       " Document(metadata={'source': 'financials/META_income_statement.csv', 'ticker_id': 'META'}, page_content='The Meta Inc Gain On Sale Of Security For the date 2023-12-31 was -0.366 Billions USD. For the date 2022-12-31 was -0.081 Billions USD. For the date 2021-12-31 was -0.14 Billions USD. For the date 2020-12-31 was -0.129 Billions USD. For the date 2019-12-31 was nan Billions USD. '),\n",
       " Document(metadata={'source': 'financials/META_income_statement.csv', 'ticker_id': 'META'}, page_content='The Meta Inc Net Non Operating Interest Income Expense For the date 2023-12-31 was 1.043 Billions USD. For the date 2022-12-31 was -0.044 Billions USD. For the date 2021-12-31 was 0.671 Billions USD. For the date 2020-12-31 was 0.638 Billions USD. For the date 2019-12-31 was nan Billions USD. '),\n",
       " Document(metadata={'source': 'financials/META_income_statement.csv', 'ticker_id': 'META'}, page_content='The Meta Inc Total Other Finance Cost For the date 2023-12-31 was 0.15 Billions USD. For the date 2022-12-31 was 0.32 Billions USD. For the date 2021-12-31 was -0.21 Billions USD. For the date 2020-12-31 was 0.034 Billions USD. For the date 2019-12-31 was nan Billions USD. '),\n",
       " Document(metadata={'source': 'financials/META_income_statement.csv', 'ticker_id': 'META'}, page_content='The Meta Inc Interest Expense Non Operating For the date 2023-12-31 was 0.446 Billions USD. For the date 2022-12-31 was 0.185 Billions USD. For the date 2021-12-31 was 0.023 Billions USD. For the date 2020-12-31 was nan Billions USD. For the date 2019-12-31 was 0.02 Billions USD. '),\n",
       " Document(metadata={'source': 'financials/META_income_statement.csv', 'ticker_id': 'META'}, page_content='The Meta Inc Interest Income Non Operating For the date 2023-12-31 was 1.639 Billions USD. For the date 2022-12-31 was 0.461 Billions USD. For the date 2021-12-31 was 0.484 Billions USD. For the date 2020-12-31 was 0.672 Billions USD. For the date 2019-12-31 was nan Billions USD. '),\n",
       " Document(metadata={'source': 'financials/META_income_statement.csv', 'ticker_id': 'META'}, page_content='The Meta Inc Operating Income For the date 2023-12-31 was 46.751 Billions USD. For the date 2022-12-31 was 28.944 Billions USD. For the date 2021-12-31 was 46.753 Billions USD. For the date 2020-12-31 was 32.671 Billions USD. For the date 2019-12-31 was nan Billions USD. '),\n",
       " Document(metadata={'source': 'financials/META_income_statement.csv', 'ticker_id': 'META'}, page_content='The Meta Inc Operating Expense For the date 2023-12-31 was 62.192 Billions USD. For the date 2022-12-31 was 62.416 Billions USD. For the date 2021-12-31 was 48.527 Billions USD. For the date 2020-12-31 was 36.602 Billions USD. For the date 2019-12-31 was nan Billions USD. '),\n",
       " Document(metadata={'source': 'financials/META_income_statement.csv', 'ticker_id': 'META'}, page_content='The Meta Inc Research And Development For the date 2023-12-31 was 38.483 Billions USD. For the date 2022-12-31 was 35.338 Billions USD. For the date 2021-12-31 was 24.655 Billions USD. For the date 2020-12-31 was 18.447 Billions USD. For the date 2019-12-31 was nan Billions USD. '),\n",
       " Document(metadata={'source': 'financials/META_income_statement.csv', 'ticker_id': 'META'}, page_content='The Meta Inc Selling General And Administration For the date 2023-12-31 was 23.709 Billions USD. For the date 2022-12-31 was 27.078 Billions USD. For the date 2021-12-31 was 23.872 Billions USD. For the date 2020-12-31 was 18.155 Billions USD. For the date 2019-12-31 was nan Billions USD. '),\n",
       " Document(metadata={'source': 'financials/META_income_statement.csv', 'ticker_id': 'META'}, page_content='The Meta Inc Selling And Marketing Expense For the date 2023-12-31 was 12.301 Billions USD. For the date 2022-12-31 was 15.262 Billions USD. For the date 2021-12-31 was 14.043 Billions USD. For the date 2020-12-31 was 11.591 Billions USD. For the date 2019-12-31 was nan Billions USD. '),\n",
       " Document(metadata={'source': 'financials/META_income_statement.csv', 'ticker_id': 'META'}, page_content='The Meta Inc General And Administrative Expense For the date 2023-12-31 was 11.408 Billions USD. For the date 2022-12-31 was 11.816 Billions USD. For the date 2021-12-31 was 9.829 Billions USD. For the date 2020-12-31 was 6.564 Billions USD. For the date 2019-12-31 was nan Billions USD. '),\n",
       " Document(metadata={'source': 'financials/META_income_statement.csv', 'ticker_id': 'META'}, page_content='The Meta Inc Other Gand A For the date 2023-12-31 was 11.408 Billions USD. For the date 2022-12-31 was 11.816 Billions USD. For the date 2021-12-31 was 9.829 Billions USD. For the date 2020-12-31 was 6.564 Billions USD. For the date 2019-12-31 was nan Billions USD. '),\n",
       " Document(metadata={'source': 'financials/META_income_statement.csv', 'ticker_id': 'META'}, page_content='The Meta Inc Gross Profit For the date 2023-12-31 was 108.943 Billions USD. For the date 2022-12-31 was 91.36 Billions USD. For the date 2021-12-31 was 95.28 Billions USD. For the date 2020-12-31 was 69.273 Billions USD. For the date 2019-12-31 was nan Billions USD. '),\n",
       " Document(metadata={'source': 'financials/META_income_statement.csv', 'ticker_id': 'META'}, page_content='The Meta Inc Cost Of Revenue For the date 2023-12-31 was 25.959 Billions USD. For the date 2022-12-31 was 25.249 Billions USD. For the date 2021-12-31 was 22.649 Billions USD. For the date 2020-12-31 was 16.692 Billions USD. For the date 2019-12-31 was nan Billions USD. '),\n",
       " Document(metadata={'source': 'financials/META_income_statement.csv', 'ticker_id': 'META'}, page_content='The Meta Inc Total Revenue For the date 2023-12-31 was 134.902 Billions USD. For the date 2022-12-31 was 116.609 Billions USD. For the date 2021-12-31 was 117.929 Billions USD. For the date 2020-12-31 was 85.965 Billions USD. For the date 2019-12-31 was nan Billions USD. '),\n",
       " Document(metadata={'source': 'financials/META_income_statement.csv', 'ticker_id': 'META'}, page_content='The Meta Inc Operating Revenue For the date 2023-12-31 was 133.844 Billions USD. For the date 2022-12-31 was 115.801 Billions USD. For the date 2021-12-31 was 117.208 Billions USD. For the date 2020-12-31 was 85.308 Billions USD. For the date 2019-12-31 was nan Billions USD. ')]"
      ]
     },
     "execution_count": 20,
     "metadata": {},
     "output_type": "execute_result"
    }
   ],
   "execution_count": 20
  },
  {
   "metadata": {},
   "cell_type": "markdown",
   "source": "### Load Embedding Model for Vectorization",
   "id": "3b9a921d61cf0929"
  },
  {
   "metadata": {
    "ExecuteTime": {
     "end_time": "2024-10-30T19:20:55.406877Z",
     "start_time": "2024-10-30T19:20:54.136158Z"
    }
   },
   "cell_type": "code",
   "source": [
    "from langchain_openai.embeddings import OpenAIEmbeddings\n",
    "\n",
    "embeddings = OpenAIEmbeddings(api_key=OPENAI_API_KEY, model='text-embedding-ada-002')"
   ],
   "id": "4c0ac70556989af7",
   "outputs": [],
   "execution_count": 21
  },
  {
   "metadata": {},
   "cell_type": "markdown",
   "source": "### Loading Data into PineCone Vector Database",
   "id": "254dd9691b577f7e"
  },
  {
   "metadata": {
    "ExecuteTime": {
     "end_time": "2024-10-30T19:22:10.346085Z",
     "start_time": "2024-10-30T19:22:03.720862Z"
    }
   },
   "cell_type": "code",
   "source": [
    "from tqdm.autonotebook import tqdm\n",
    "from langchain_pinecone import PineconeVectorStore\n",
    "\n",
    "index_name = PINECONE_INDEX_NAME\n",
    "\n",
    "pinecone = PineconeVectorStore.from_documents(\n",
    "    financial_documents, embeddings, index_name=index_name\n",
    ")"
   ],
   "id": "19739fae97bfcd3a",
   "outputs": [],
   "execution_count": 22
  }
 ],
 "metadata": {
  "kernelspec": {
   "display_name": "Python 3",
   "language": "python",
   "name": "python3"
  },
  "language_info": {
   "codemirror_mode": {
    "name": "ipython",
    "version": 2
   },
   "file_extension": ".py",
   "mimetype": "text/x-python",
   "name": "python",
   "nbconvert_exporter": "python",
   "pygments_lexer": "ipython2",
   "version": "2.7.6"
  }
 },
 "nbformat": 4,
 "nbformat_minor": 5
}
