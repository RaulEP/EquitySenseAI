{
 "cells": [
  {
   "metadata": {
    "ExecuteTime": {
     "end_time": "2024-10-27T00:13:12.353559Z",
     "start_time": "2024-10-27T00:13:12.338456Z"
    }
   },
   "cell_type": "code",
   "source": [
    "import os\n",
    "from dotenv import load_dotenv, find_dotenv\n",
    "from langchain.chains import create_retrieval_chain\n",
    "from langchain.chains.combine_documents import create_stuff_documents_chain\n",
    "from langchain_core.prompts import ChatPromptTemplate\n",
    "from langchain_openai import OpenAIEmbeddings\n",
    "from langchain_openai import ChatOpenAI\n",
    "from langchain_pinecone import PineconeVectorStore\n",
    "from langchain_core.output_parsers import StrOutputParser\n",
    "from pinecone import Pinecone"
   ],
   "id": "ae35388edf4c401d",
   "outputs": [],
   "execution_count": 9
  },
  {
   "metadata": {
    "ExecuteTime": {
     "end_time": "2024-10-27T00:12:40.682391Z",
     "start_time": "2024-10-27T00:12:40.671749Z"
    }
   },
   "cell_type": "code",
   "source": [
    "DOT_ENV_PATH = find_dotenv()\n",
    "load_dotenv(DOT_ENV_PATH)"
   ],
   "id": "6541ba24be8a9e0",
   "outputs": [
    {
     "data": {
      "text/plain": [
       "True"
      ]
     },
     "execution_count": 2,
     "metadata": {},
     "output_type": "execute_result"
    }
   ],
   "execution_count": 2
  },
  {
   "metadata": {
    "ExecuteTime": {
     "end_time": "2024-10-27T00:12:41.659394Z",
     "start_time": "2024-10-27T00:12:41.655286Z"
    }
   },
   "cell_type": "code",
   "source": [
    "OPENAI_API_KEY = os.getenv(\"OPENAI_API_KEY\")\n",
    "PINECONE_API_KEY = os.getenv(\"PINECONE_API_KEY\")\n",
    "LANGCHAIN_API_KEY = os.getenv(\"LANGCHAIN_API_KEY\")\n",
    "LANGCHAIN_TRACING_V2 = os.getenv(\"LANGCHAIN_TRACING_V2\")\n",
    "PINECONE_INDEX_NAME = \"equity-sense-vdb\"\n",
    "LANGCHAIN_PROJECT=\"defaultv2\""
   ],
   "id": "79673b7fe6a43980",
   "outputs": [],
   "execution_count": 3
  },
  {
   "metadata": {
    "ExecuteTime": {
     "end_time": "2024-10-27T00:12:44.551804Z",
     "start_time": "2024-10-27T00:12:43.706527Z"
    }
   },
   "cell_type": "code",
   "source": [
    "# Instantiate LLM Model\n",
    "llm = ChatOpenAI()"
   ],
   "id": "3a8e02b32a0bd1df",
   "outputs": [],
   "execution_count": 4
  },
  {
   "metadata": {
    "ExecuteTime": {
     "end_time": "2024-10-27T00:12:45.976566Z",
     "start_time": "2024-10-27T00:12:45.841462Z"
    }
   },
   "cell_type": "code",
   "source": [
    "# Declare PineCone Client\n",
    "pc = Pinecone(api_key=PINECONE_API_KEY)"
   ],
   "id": "23d3c167c49eef7d",
   "outputs": [],
   "execution_count": 5
  },
  {
   "metadata": {
    "ExecuteTime": {
     "end_time": "2024-10-27T00:12:49.045116Z",
     "start_time": "2024-10-27T00:12:47.442772Z"
    }
   },
   "cell_type": "code",
   "source": [
    "# Get Index Object\n",
    "index = pc.Index(PINECONE_INDEX_NAME)\n",
    "\n",
    "# Initialize embedding model\n",
    "embeddings = OpenAIEmbeddings(\n",
    "    api_key=OPENAI_API_KEY, \n",
    "    model='text-embedding-ada-002'\n",
    ")\n",
    "\n",
    "# Create VectorStore\n",
    "vector_store = PineconeVectorStore(index=index, embedding=embeddings)"
   ],
   "id": "51a485a0d29a9895",
   "outputs": [],
   "execution_count": 6
  },
  {
   "metadata": {
    "ExecuteTime": {
     "end_time": "2024-10-27T00:12:49.946922Z",
     "start_time": "2024-10-27T00:12:49.936299Z"
    }
   },
   "cell_type": "code",
   "source": "retriever = vector_store.as_retriever()",
   "id": "5d4a2a982da57948",
   "outputs": [],
   "execution_count": 7
  },
  {
   "metadata": {
    "ExecuteTime": {
     "end_time": "2024-10-27T00:13:17.027475Z",
     "start_time": "2024-10-27T00:13:17.022916Z"
    }
   },
   "cell_type": "code",
   "source": "parser = StrOutputParser()",
   "id": "1dc32a2fbc55a692",
   "outputs": [],
   "execution_count": 10
  },
  {
   "metadata": {
    "ExecuteTime": {
     "end_time": "2024-10-27T00:13:24.409762Z",
     "start_time": "2024-10-27T00:13:21.899311Z"
    }
   },
   "cell_type": "code",
   "source": [
    "system_prompt = (\n",
    "    \"\"\"You are an assistant for question-answering tasks. Use the following pieces of retrieved context to answer the question. If you don't know the answer, say that you don't know. Use three sentences maximum and keep the answer concise. \\n\\n\n",
    "    Context: {context}\"\"\"\n",
    ")\n",
    "\n",
    "prompt = ChatPromptTemplate.from_messages(\n",
    "    [\n",
    "        (\"system\", system_prompt),\n",
    "        (\"human\", \"{input}\"),\n",
    "    ]\n",
    ")\n",
    "\n",
    "question_answer_chain = create_stuff_documents_chain(llm, prompt)\n",
    "rag_chain = create_retrieval_chain(retriever, question_answer_chain)\n",
    "\n",
    "response = rag_chain.invoke({\"input\": \"Which year does NVIDIA has the highest Net Income?\"})\n",
    "response[\"answer\"]"
   ],
   "id": "18cf696b8d5ae224",
   "outputs": [
    {
     "data": {
      "text/plain": [
       "'NVIDIA had the highest Net Income in the year 2024 with 29.76 Billion USD.'"
      ]
     },
     "execution_count": 11,
     "metadata": {},
     "output_type": "execute_result"
    }
   ],
   "execution_count": 11
  },
  {
   "metadata": {
    "ExecuteTime": {
     "end_time": "2024-10-27T00:13:25.821094Z",
     "start_time": "2024-10-27T00:13:25.797595Z"
    }
   },
   "cell_type": "code",
   "source": [
    "from langchain.chains import create_history_aware_retriever\n",
    "from langchain_core.prompts import MessagesPlaceholder\n",
    "\n",
    "contextualize_q_system_prompt = (\n",
    "    \"Given a chat history and the latest user question \"\n",
    "    \"which might reference context in the chat history, \"\n",
    "    \"formulate a standalone question which can be understood \"\n",
    "    \"without the chat history. Do NOT answer the question, \"\n",
    "    \"just reformulate it if needed and otherwise return it as is.\"\n",
    ")\n",
    "\n",
    "contextualize_q_prompt = ChatPromptTemplate.from_messages(\n",
    "    [\n",
    "        (\"system\", contextualize_q_system_prompt),\n",
    "        MessagesPlaceholder(\"chat_history\"),\n",
    "        (\"human\", \"{input}\"),\n",
    "    ]\n",
    ")\n",
    "history_aware_retriever = create_history_aware_retriever(\n",
    "    llm, retriever, contextualize_q_prompt\n",
    ")"
   ],
   "id": "191abe1bfb648337",
   "outputs": [],
   "execution_count": 12
  },
  {
   "metadata": {
    "ExecuteTime": {
     "end_time": "2024-10-27T00:13:28.881926Z",
     "start_time": "2024-10-27T00:13:28.877247Z"
    }
   },
   "cell_type": "code",
   "source": [
    "from langchain.chains import create_retrieval_chain\n",
    "from langchain.chains.combine_documents import create_stuff_documents_chain\n",
    "\n",
    "qa_prompt = ChatPromptTemplate.from_messages(\n",
    "    [\n",
    "        (\"system\", system_prompt),\n",
    "        MessagesPlaceholder(\"chat_history\"),\n",
    "        (\"human\", \"{input}\"),\n",
    "    ]\n",
    ")"
   ],
   "id": "ef96b301871b0163",
   "outputs": [],
   "execution_count": 13
  },
  {
   "metadata": {
    "ExecuteTime": {
     "end_time": "2024-10-27T00:13:30.447487Z",
     "start_time": "2024-10-27T00:13:30.443293Z"
    }
   },
   "cell_type": "code",
   "source": [
    "question_answer_chain = create_stuff_documents_chain(llm, qa_prompt)\n",
    "\n",
    "rag_chain = create_retrieval_chain(history_aware_retriever, question_answer_chain)"
   ],
   "id": "e0a5dfda2baf0503",
   "outputs": [],
   "execution_count": 14
  },
  {
   "metadata": {
    "ExecuteTime": {
     "end_time": "2024-10-27T00:13:36.526955Z",
     "start_time": "2024-10-27T00:13:32.275028Z"
    }
   },
   "cell_type": "code",
   "source": [
    "from langchain_core.messages import AIMessage, HumanMessage\n",
    "\n",
    "chat_history = []\n",
    "\n",
    "question = \"What is NVIDIA Net Income?\"\n",
    "ai_msg_1 = rag_chain.invoke({\"input\": question, \"chat_history\": chat_history})\n",
    "chat_history.extend(\n",
    "    [\n",
    "        HumanMessage(content=question),\n",
    "        AIMessage(content=ai_msg_1[\"answer\"]),\n",
    "    ]\n",
    ")\n",
    "\n",
    "print(ai_msg_1[\"answer\"] + \"\\n\\n\")\n",
    "\n",
    "second_question = \"Order these income from highest to lowest?\"\n",
    "ai_msg_2 = rag_chain.invoke({\"input\": second_question, \"chat_history\": chat_history})\n",
    "\n",
    "print(ai_msg_2[\"answer\"])"
   ],
   "id": "5eacba348c78413a",
   "outputs": [
    {
     "name": "stdout",
     "output_type": "stream",
     "text": [
      "The NVIDIA Net Income for 2024-01-31 was 29.76 Billion USD, for 2023-01-31 was 4.368 Billion USD, for 2022-01-31 was 9.752 Billion USD, and for 2021-01-31 was 4.332 Billion USD. The net income values represent the profit generated by NVIDIA after accounting for all expenses and taxes.\n",
      "\n",
      "\n",
      "The NVIDIA Net Income values from highest to lowest are: 29.76 Billion USD for 2024-01-31, 9.752 Billion USD for 2022-01-31, 4.368 Billion USD for 2023-01-31, and 4.332 Billion USD for 2021-01-31.\n"
     ]
    }
   ],
   "execution_count": 15
  },
  {
   "metadata": {
    "ExecuteTime": {
     "end_time": "2024-10-27T00:13:43.925336Z",
     "start_time": "2024-10-27T00:13:43.726303Z"
    }
   },
   "cell_type": "code",
   "source": [
    "from typing import Sequence\n",
    "\n",
    "from langchain_core.messages import BaseMessage\n",
    "from langgraph.checkpoint.memory import MemorySaver\n",
    "from langgraph.graph import START, StateGraph\n",
    "from langgraph.graph.message import add_messages\n",
    "from typing_extensions import Annotated, TypedDict\n",
    "\n",
    "\n",
    "# We define a dict representing the state of the application.\n",
    "# This state has the same input and output keys as `rag_chain`.\n",
    "class State(TypedDict):\n",
    "    input: str\n",
    "    chat_history: Annotated[Sequence[BaseMessage], add_messages]\n",
    "    context: str\n",
    "    answer: str\n",
    "\n",
    "\n",
    "# We then define a simple node that runs the `rag_chain`.\n",
    "# The `return` values of the node update the graph state, so here we just\n",
    "# update the chat history with the input message and response.\n",
    "def call_model(state: State):\n",
    "    response = rag_chain.invoke(state)\n",
    "    return {\n",
    "        \"chat_history\": [\n",
    "            HumanMessage(state[\"input\"]),\n",
    "            AIMessage(response[\"answer\"]),\n",
    "        ],\n",
    "        \"context\": response[\"context\"],\n",
    "        \"answer\": response[\"answer\"],\n",
    "    }\n",
    "\n",
    "\n",
    "# Our graph consists only of one node:\n",
    "workflow = StateGraph(state_schema=State)\n",
    "workflow.add_edge(START, \"model\")\n",
    "workflow.add_node(\"model\", call_model)\n",
    "\n",
    "# Finally, we compile the graph with a checkpointer object.\n",
    "# This persists the state, in this case in memory.\n",
    "memory = MemorySaver()\n",
    "app = workflow.compile(checkpointer=memory)"
   ],
   "id": "4aed5deb53e4842e",
   "outputs": [],
   "execution_count": 16
  },
  {
   "metadata": {
    "ExecuteTime": {
     "end_time": "2024-10-27T00:14:03.969482Z",
     "start_time": "2024-10-27T00:14:02.092761Z"
    }
   },
   "cell_type": "code",
   "source": [
    "config = {\"configurable\": {\"thread_id\": \"abc124\"}}\n",
    "\n",
    "result = app.invoke(\n",
    "    {\"input\": \"What is NVIDIA Net Income?\"},\n",
    "    config=config,\n",
    ")\n",
    "print(result[\"answer\"])"
   ],
   "id": "af3995a72f402012",
   "outputs": [
    {
     "name": "stdout",
     "output_type": "stream",
     "text": [
      "NVIDIA's Net Income for the date 2024-01-31 was 29.76 Billion USD, for 2023-01-31 was 4.368 Billion USD, for 2022-01-31 was 9.752 Billion USD, and for 2021-01-31 was 4.332 Billion USD. The Net Income represents the company's total earnings after expenses such as taxes and operating costs have been deducted.\n"
     ]
    }
   ],
   "execution_count": 17
  },
  {
   "metadata": {
    "ExecuteTime": {
     "end_time": "2024-10-27T00:14:10.681333Z",
     "start_time": "2024-10-27T00:14:07.805690Z"
    }
   },
   "cell_type": "code",
   "source": [
    "result = app.invoke(\n",
    "    {\"input\": \"Order NVIDIA income from highest to lowest?\"},\n",
    "    config=config,\n",
    ")\n",
    "print(result[\"answer\"])"
   ],
   "id": "5a8f5af2dae3e91a",
   "outputs": [
    {
     "name": "stdout",
     "output_type": "stream",
     "text": [
      "The order of NVIDIA's Net Income from highest to lowest is as follows: \n",
      "1. 2024-01-31: 29.76 Billion USD\n",
      "2. 2022-01-31: 9.752 Billion USD\n",
      "3. 2023-01-31: 4.368 Billion USD\n",
      "4. 2021-01-31: 4.332 Billion USD.\n"
     ]
    }
   ],
   "execution_count": 18
  },
  {
   "metadata": {
    "ExecuteTime": {
     "end_time": "2024-10-27T00:14:13.465700Z",
     "start_time": "2024-10-27T00:14:13.455726Z"
    }
   },
   "cell_type": "code",
   "source": [
    "chat_history = app.get_state(config).values[\"chat_history\"]\n",
    "for message in chat_history:\n",
    "    message.pretty_print()"
   ],
   "id": "59dc65e93116df31",
   "outputs": [
    {
     "name": "stdout",
     "output_type": "stream",
     "text": [
      "================================\u001B[1m Human Message \u001B[0m=================================\n",
      "\n",
      "What is NVIDIA Net Income?\n",
      "==================================\u001B[1m Ai Message \u001B[0m==================================\n",
      "\n",
      "NVIDIA's Net Income for the date 2024-01-31 was 29.76 Billion USD, for 2023-01-31 was 4.368 Billion USD, for 2022-01-31 was 9.752 Billion USD, and for 2021-01-31 was 4.332 Billion USD. The Net Income represents the company's total earnings after expenses such as taxes and operating costs have been deducted.\n",
      "================================\u001B[1m Human Message \u001B[0m=================================\n",
      "\n",
      "Order NVIDIA income from highest to lowest?\n",
      "==================================\u001B[1m Ai Message \u001B[0m==================================\n",
      "\n",
      "The order of NVIDIA's Net Income from highest to lowest is as follows: \n",
      "1. 2024-01-31: 29.76 Billion USD\n",
      "2. 2022-01-31: 9.752 Billion USD\n",
      "3. 2023-01-31: 4.368 Billion USD\n",
      "4. 2021-01-31: 4.332 Billion USD.\n"
     ]
    }
   ],
   "execution_count": 19
  },
  {
   "metadata": {
    "ExecuteTime": {
     "end_time": "2024-10-27T00:14:37.090796Z",
     "start_time": "2024-10-27T00:14:34.489395Z"
    }
   },
   "cell_type": "code",
   "source": [
    "result = app.invoke(\n",
    "    {\"input\": \"What company information is this?\"},\n",
    "    config=config,\n",
    ")\n",
    "print(result[\"answer\"])"
   ],
   "id": "619fe1312a9fb40a",
   "outputs": [
    {
     "name": "stdout",
     "output_type": "stream",
     "text": [
      "The information provided is about NVIDIA, a technology company known for its graphics processing units (GPUs) and other semiconductor products. NVIDIA is a prominent player in the gaming, data center, and professional visualization markets.\n"
     ]
    }
   ],
   "execution_count": 20
  },
  {
   "metadata": {
    "ExecuteTime": {
     "end_time": "2024-10-27T00:14:50.305047Z",
     "start_time": "2024-10-27T00:14:50.297624Z"
    }
   },
   "cell_type": "code",
   "source": [
    "chat_history = app.get_state(config).values[\"chat_history\"]\n",
    "for message in chat_history:\n",
    "    message.pretty_print()"
   ],
   "id": "f43bb9241192390e",
   "outputs": [
    {
     "name": "stdout",
     "output_type": "stream",
     "text": [
      "================================\u001B[1m Human Message \u001B[0m=================================\n",
      "\n",
      "What is NVIDIA Net Income?\n",
      "==================================\u001B[1m Ai Message \u001B[0m==================================\n",
      "\n",
      "NVIDIA's Net Income for the date 2024-01-31 was 29.76 Billion USD, for 2023-01-31 was 4.368 Billion USD, for 2022-01-31 was 9.752 Billion USD, and for 2021-01-31 was 4.332 Billion USD. The Net Income represents the company's total earnings after expenses such as taxes and operating costs have been deducted.\n",
      "================================\u001B[1m Human Message \u001B[0m=================================\n",
      "\n",
      "Order NVIDIA income from highest to lowest?\n",
      "==================================\u001B[1m Ai Message \u001B[0m==================================\n",
      "\n",
      "The order of NVIDIA's Net Income from highest to lowest is as follows: \n",
      "1. 2024-01-31: 29.76 Billion USD\n",
      "2. 2022-01-31: 9.752 Billion USD\n",
      "3. 2023-01-31: 4.368 Billion USD\n",
      "4. 2021-01-31: 4.332 Billion USD.\n",
      "================================\u001B[1m Human Message \u001B[0m=================================\n",
      "\n",
      "What company information is this?\n",
      "==================================\u001B[1m Ai Message \u001B[0m==================================\n",
      "\n",
      "The information provided is about NVIDIA, a technology company known for its graphics processing units (GPUs) and other semiconductor products. NVIDIA is a prominent player in the gaming, data center, and professional visualization markets.\n"
     ]
    }
   ],
   "execution_count": 21
  }
 ],
 "metadata": {
  "kernelspec": {
   "display_name": "Python 3",
   "language": "python",
   "name": "python3"
  },
  "language_info": {
   "codemirror_mode": {
    "name": "ipython",
    "version": 2
   },
   "file_extension": ".py",
   "mimetype": "text/x-python",
   "name": "python",
   "nbconvert_exporter": "python",
   "pygments_lexer": "ipython2",
   "version": "2.7.6"
  }
 },
 "nbformat": 4,
 "nbformat_minor": 5
}
