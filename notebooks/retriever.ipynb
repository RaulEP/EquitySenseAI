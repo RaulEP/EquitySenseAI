{
 "cells": [
  {
   "metadata": {
    "ExecuteTime": {
     "end_time": "2024-10-30T19:49:23.587098Z",
     "start_time": "2024-10-30T19:49:14.976440Z"
    }
   },
   "cell_type": "code",
   "source": [
    "import os\n",
    "from dotenv import load_dotenv, find_dotenv\n",
    "from langchain.chains import create_retrieval_chain\n",
    "from langchain.chains.combine_documents import create_stuff_documents_chain\n",
    "from langchain_core.prompts import ChatPromptTemplate\n",
    "from langchain_openai import OpenAIEmbeddings\n",
    "from langchain_openai import ChatOpenAI\n",
    "from langchain_pinecone import PineconeVectorStore\n",
    "from langchain_core.output_parsers import StrOutputParser\n",
    "from langchain.retrievers.contextual_compression import ContextualCompressionRetriever\n",
    "from langchain_cohere import CohereRerank\n",
    "from pinecone import Pinecone"
   ],
   "id": "ae35388edf4c401d",
   "outputs": [],
   "execution_count": 1
  },
  {
   "metadata": {
    "ExecuteTime": {
     "end_time": "2024-10-30T19:49:24.969161Z",
     "start_time": "2024-10-30T19:49:24.959231Z"
    }
   },
   "cell_type": "code",
   "source": [
    "DOT_ENV_PATH = find_dotenv()\n",
    "load_dotenv(DOT_ENV_PATH)"
   ],
   "id": "6541ba24be8a9e0",
   "outputs": [
    {
     "data": {
      "text/plain": [
       "True"
      ]
     },
     "execution_count": 2,
     "metadata": {},
     "output_type": "execute_result"
    }
   ],
   "execution_count": 2
  },
  {
   "metadata": {
    "ExecuteTime": {
     "end_time": "2024-10-30T19:49:26.796896Z",
     "start_time": "2024-10-30T19:49:26.792383Z"
    }
   },
   "cell_type": "code",
   "source": [
    "OPENAI_API_KEY = os.getenv(\"OPENAI_API_KEY\")\n",
    "PINECONE_API_KEY = os.getenv(\"PINECONE_API_KEY\")\n",
    "LANGCHAIN_API_KEY = os.getenv(\"LANGCHAIN_API_KEY\")\n",
    "LANGCHAIN_TRACING_V2 = os.getenv(\"LANGCHAIN_TRACING_V2\")\n",
    "PINECONE_INDEX_NAME = \"equity-sense-vdb\"\n",
    "LANGCHAIN_PROJECT=\"defaultv2\"\n",
    "COHERE_API_KEY = os.getenv(\"COHERE_API_KEY\")"
   ],
   "id": "79673b7fe6a43980",
   "outputs": [],
   "execution_count": 3
  },
  {
   "metadata": {},
   "cell_type": "markdown",
   "source": "### Helper Function",
   "id": "e7ccfd0eb6e0c17"
  },
  {
   "metadata": {
    "ExecuteTime": {
     "end_time": "2024-10-30T19:49:28.936588Z",
     "start_time": "2024-10-30T19:49:28.931502Z"
    }
   },
   "cell_type": "code",
   "source": [
    "def pretty_print_docs(docs):\n",
    "    print(\n",
    "        f\"\\n{'-' * 100}\\n\".join(\n",
    "            [f\"Document {i+1}:\\n\\n\" + d.page_content for i, d in enumerate(docs)]\n",
    "        )\n",
    "    )"
   ],
   "id": "ff3963a292f61da0",
   "outputs": [],
   "execution_count": 4
  },
  {
   "metadata": {},
   "cell_type": "markdown",
   "source": "### Instantiate LLM Model",
   "id": "aa5653f60d7a36e"
  },
  {
   "metadata": {
    "ExecuteTime": {
     "end_time": "2024-10-30T19:49:32.259286Z",
     "start_time": "2024-10-30T19:49:30.828519Z"
    }
   },
   "cell_type": "code",
   "source": [
    "# Instantiate LLM Model\n",
    "llm = ChatOpenAI()"
   ],
   "id": "3a8e02b32a0bd1df",
   "outputs": [],
   "execution_count": 5
  },
  {
   "metadata": {},
   "cell_type": "markdown",
   "source": "### Instantiate PineCone Client",
   "id": "8332b4f4c850e396"
  },
  {
   "metadata": {
    "ExecuteTime": {
     "end_time": "2024-10-30T19:49:35.207252Z",
     "start_time": "2024-10-30T19:49:33.060444Z"
    }
   },
   "cell_type": "code",
   "source": [
    "# Declare PineCone Client\n",
    "pc = Pinecone(api_key=PINECONE_API_KEY)\n",
    "\n",
    "# Get Index Object\n",
    "index = pc.Index(PINECONE_INDEX_NAME)"
   ],
   "id": "23d3c167c49eef7d",
   "outputs": [],
   "execution_count": 6
  },
  {
   "metadata": {},
   "cell_type": "markdown",
   "source": "### Load Embedding Model",
   "id": "6044d550a58b37eb"
  },
  {
   "metadata": {
    "ExecuteTime": {
     "end_time": "2024-10-30T19:49:37.022259Z",
     "start_time": "2024-10-30T19:49:35.732186Z"
    }
   },
   "cell_type": "code",
   "source": [
    "# Initialize embedding model\n",
    "embeddings = OpenAIEmbeddings(\n",
    "    api_key=OPENAI_API_KEY, \n",
    "    model='text-embedding-ada-002'\n",
    ")"
   ],
   "id": "cd8e75df8256ba33",
   "outputs": [],
   "execution_count": 7
  },
  {
   "metadata": {},
   "cell_type": "markdown",
   "source": "### Load VectorStore",
   "id": "55ae090477a2cfdb"
  },
  {
   "metadata": {
    "ExecuteTime": {
     "end_time": "2024-10-30T19:49:38.266654Z",
     "start_time": "2024-10-30T19:49:38.260087Z"
    }
   },
   "cell_type": "code",
   "source": [
    "# Create VectorStore\n",
    "vector_store = PineconeVectorStore(index=index, embedding=embeddings)"
   ],
   "id": "9ded5b931cc280a9",
   "outputs": [],
   "execution_count": 8
  },
  {
   "metadata": {
    "ExecuteTime": {
     "end_time": "2024-10-30T19:49:40.206527Z",
     "start_time": "2024-10-30T19:49:40.201123Z"
    }
   },
   "cell_type": "code",
   "source": "retriever = vector_store.as_retriever(k=10)",
   "id": "5d4a2a982da57948",
   "outputs": [],
   "execution_count": 9
  },
  {
   "metadata": {},
   "cell_type": "markdown",
   "source": "### Add Self-Querying Capabilities to Retriever",
   "id": "979c5443b955522d"
  },
  {
   "metadata": {
    "ExecuteTime": {
     "end_time": "2024-10-30T19:49:48.695595Z",
     "start_time": "2024-10-30T19:49:48.635453Z"
    }
   },
   "cell_type": "code",
   "source": [
    "from langchain.chains.query_constructor.base import AttributeInfo\n",
    "from langchain.retrievers.self_query.base import SelfQueryRetriever\n",
    "\n",
    "financial_metadata = \\\n",
    "    [\n",
    "    AttributeInfo(\n",
    "        name=\"ticker_id\",\n",
    "        description=\"Stock ticker symbol of the company\",\n",
    "        type=\"string\",\n",
    "    ),\n",
    "    AttributeInfo(\n",
    "        name=\"source\",\n",
    "        description=\"Source file of the financial data\",\n",
    "        type=\"string\",\n",
    "    )]\n",
    "\n",
    "financial_content_description = \"Financial statements and metrics for various companies in the Stock Market by year\"\n",
    "\n",
    "self_querying_retriever = SelfQueryRetriever(\n",
    "    llm=llm,\n",
    "    vector_store=vector_store,\n",
    "    document_content_description=financial_content_description,\n",
    "    metadata_field_info=financial_metadata,\n",
    ")"
   ],
   "id": "3d3d2699b6843fc4",
   "outputs": [
    {
     "ename": "KeyError",
     "evalue": "'vectorstore'",
     "output_type": "error",
     "traceback": [
      "\u001B[1;31m---------------------------------------------------------------------------\u001B[0m",
      "\u001B[1;31mKeyError\u001B[0m                                  Traceback (most recent call last)",
      "Cell \u001B[1;32mIn[11], line 19\u001B[0m\n\u001B[0;32m      4\u001B[0m financial_metadata \u001B[38;5;241m=\u001B[39m \\\n\u001B[0;32m      5\u001B[0m     [\n\u001B[0;32m      6\u001B[0m     AttributeInfo(\n\u001B[1;32m   (...)\u001B[0m\n\u001B[0;32m     14\u001B[0m         \u001B[38;5;28mtype\u001B[39m\u001B[38;5;241m=\u001B[39m\u001B[38;5;124m\"\u001B[39m\u001B[38;5;124mstring\u001B[39m\u001B[38;5;124m\"\u001B[39m,\n\u001B[0;32m     15\u001B[0m     )]\n\u001B[0;32m     17\u001B[0m financial_content_description \u001B[38;5;241m=\u001B[39m \u001B[38;5;124m\"\u001B[39m\u001B[38;5;124mFinancial statements and metrics for various companies in the Stock Market by year\u001B[39m\u001B[38;5;124m\"\u001B[39m\n\u001B[1;32m---> 19\u001B[0m self_querying_retriever \u001B[38;5;241m=\u001B[39m SelfQueryRetriever(\n\u001B[0;32m     20\u001B[0m     llm\u001B[38;5;241m=\u001B[39mllm,\n\u001B[0;32m     21\u001B[0m     vector_store\u001B[38;5;241m=\u001B[39mvector_store,\n\u001B[0;32m     22\u001B[0m     document_content_description\u001B[38;5;241m=\u001B[39mfinancial_content_description,\n\u001B[0;32m     23\u001B[0m     metadata_field_info\u001B[38;5;241m=\u001B[39mfinancial_metadata,\n\u001B[0;32m     24\u001B[0m )\n",
      "File \u001B[1;32mC:\\Anaconda3_py312\\envs\\EquitySenseEnv\\Lib\\site-packages\\langchain_core\\load\\serializable.py:111\u001B[0m, in \u001B[0;36mSerializable.__init__\u001B[1;34m(self, *args, **kwargs)\u001B[0m\n\u001B[0;32m    109\u001B[0m \u001B[38;5;28;01mdef\u001B[39;00m \u001B[38;5;21m__init__\u001B[39m(\u001B[38;5;28mself\u001B[39m, \u001B[38;5;241m*\u001B[39margs: Any, \u001B[38;5;241m*\u001B[39m\u001B[38;5;241m*\u001B[39mkwargs: Any) \u001B[38;5;241m-\u001B[39m\u001B[38;5;241m>\u001B[39m \u001B[38;5;28;01mNone\u001B[39;00m:\n\u001B[0;32m    110\u001B[0m \u001B[38;5;250m    \u001B[39m\u001B[38;5;124;03m\"\"\"\"\"\"\u001B[39;00m\n\u001B[1;32m--> 111\u001B[0m     \u001B[38;5;28msuper\u001B[39m()\u001B[38;5;241m.\u001B[39m\u001B[38;5;21m__init__\u001B[39m(\u001B[38;5;241m*\u001B[39margs, \u001B[38;5;241m*\u001B[39m\u001B[38;5;241m*\u001B[39mkwargs)\n",
      "    \u001B[1;31m[... skipping hidden 1 frame]\u001B[0m\n",
      "File \u001B[1;32mC:\\Anaconda3_py312\\envs\\EquitySenseEnv\\Lib\\site-packages\\langchain\\retrievers\\self_query\\base.py:237\u001B[0m, in \u001B[0;36mSelfQueryRetriever.validate_translator\u001B[1;34m(cls, values)\u001B[0m\n\u001B[0;32m    234\u001B[0m \u001B[38;5;250m\u001B[39m\u001B[38;5;124;03m\"\"\"Validate translator.\"\"\"\u001B[39;00m\n\u001B[0;32m    235\u001B[0m \u001B[38;5;28;01mif\u001B[39;00m \u001B[38;5;124m\"\u001B[39m\u001B[38;5;124mstructured_query_translator\u001B[39m\u001B[38;5;124m\"\u001B[39m \u001B[38;5;129;01mnot\u001B[39;00m \u001B[38;5;129;01min\u001B[39;00m values:\n\u001B[0;32m    236\u001B[0m     values[\u001B[38;5;124m\"\u001B[39m\u001B[38;5;124mstructured_query_translator\u001B[39m\u001B[38;5;124m\"\u001B[39m] \u001B[38;5;241m=\u001B[39m _get_builtin_translator(\n\u001B[1;32m--> 237\u001B[0m         values[\u001B[38;5;124m\"\u001B[39m\u001B[38;5;124mvectorstore\u001B[39m\u001B[38;5;124m\"\u001B[39m]\n\u001B[0;32m    238\u001B[0m     )\n\u001B[0;32m    239\u001B[0m \u001B[38;5;28;01mreturn\u001B[39;00m values\n",
      "\u001B[1;31mKeyError\u001B[0m: 'vectorstore'"
     ]
    }
   ],
   "execution_count": 11
  },
  {
   "metadata": {},
   "cell_type": "markdown",
   "source": "### Add ReRanking to Retriever",
   "id": "12a8db19aa8e0ca5"
  },
  {
   "metadata": {
    "ExecuteTime": {
     "end_time": "2024-10-30T19:49:58.084198Z",
     "start_time": "2024-10-30T19:49:57.210999Z"
    }
   },
   "cell_type": "code",
   "source": [
    "compressor = CohereRerank(\n",
    "    cohere_api_key=COHERE_API_KEY,\n",
    "    model='rerank-english-v3.0',\n",
    "    top_n=3\n",
    ")\n",
    "compression_retriever = ContextualCompressionRetriever(\n",
    "    base_compressor=compressor, base_retriever=retriever\n",
    ")"
   ],
   "id": "e3062be5d0d9aaf9",
   "outputs": [],
   "execution_count": 12
  },
  {
   "metadata": {},
   "cell_type": "markdown",
   "source": "#### Test Traditional Retriever",
   "id": "72f4e9f56262ca1f"
  },
  {
   "metadata": {
    "ExecuteTime": {
     "end_time": "2024-10-30T19:50:03.838657Z",
     "start_time": "2024-10-30T19:50:01.355559Z"
    }
   },
   "cell_type": "code",
   "source": [
    "retriever_docs = retriever.invoke(\n",
    "    \"What are META reported Operating Income?\"\n",
    ")\n",
    "pretty_print_docs(retriever_docs)"
   ],
   "id": "7f0ae0e44a83168d",
   "outputs": [
    {
     "name": "stdout",
     "output_type": "stream",
     "text": [
      "Document 1:\n",
      "\n",
      "The Meta Inc Total Operating Income As Reported For the date 2023-12-31 was 46.751 Billions USD. For the date 2022-12-31 was 28.944 Billions USD. For the date 2021-12-31 was 46.753 Billions USD. For the date 2020-12-31 was 32.671 Billions USD. For the date 2019-12-31 was nan Billions USD. \n",
      "----------------------------------------------------------------------------------------------------\n",
      "Document 2:\n",
      "\n",
      "The Meta Inc Operating Income For the date 2023-12-31 was 46.751 Billions USD. For the date 2022-12-31 was 28.944 Billions USD. For the date 2021-12-31 was 46.753 Billions USD. For the date 2020-12-31 was 32.671 Billions USD. For the date 2019-12-31 was nan Billions USD. \n",
      "----------------------------------------------------------------------------------------------------\n",
      "Document 3:\n",
      "\n",
      "The Meta Inc Operating Revenue For the date 2023-12-31 was 133.844 Billions USD. For the date 2022-12-31 was 115.801 Billions USD. For the date 2021-12-31 was 117.208 Billions USD. For the date 2020-12-31 was 85.308 Billions USD. For the date 2019-12-31 was nan Billions USD. \n",
      "----------------------------------------------------------------------------------------------------\n",
      "Document 4:\n",
      "\n",
      "The Meta Inc Interest Income Non Operating For the date 2023-12-31 was 1.639 Billions USD. For the date 2022-12-31 was 0.461 Billions USD. For the date 2021-12-31 was 0.484 Billions USD. For the date 2020-12-31 was 0.672 Billions USD. For the date 2019-12-31 was nan Billions USD. \n"
     ]
    }
   ],
   "execution_count": 13
  },
  {
   "metadata": {},
   "cell_type": "markdown",
   "source": "#### Test Re-Ranker Retriever",
   "id": "db50c3a85e0312c5"
  },
  {
   "metadata": {
    "ExecuteTime": {
     "end_time": "2024-10-30T19:50:09.631370Z",
     "start_time": "2024-10-30T19:50:08.304203Z"
    }
   },
   "cell_type": "code",
   "source": [
    "compressed_docs = compression_retriever.invoke(\n",
    "    \"What are NVIDIA reported Operating Income?\"\n",
    ")\n",
    "pretty_print_docs(compressed_docs)"
   ],
   "id": "adef3d2429af831",
   "outputs": [
    {
     "name": "stdout",
     "output_type": "stream",
     "text": [
      "Document 1:\n",
      "\n",
      "The NVIDIA Total Operating Income As Reported For the date 2024-01-31 was 32.972 Billions USD. For the date 2023-01-31 was 4.224 Billions USD. For the date 2022-01-31 was 10.041 Billions USD. For the date 2021-01-31 was 4.532 Billions USD. \n",
      "----------------------------------------------------------------------------------------------------\n",
      "Document 2:\n",
      "\n",
      "The NVIDIA Operating Income For the date 2024-01-31 was 32.972 Billions USD. For the date 2023-01-31 was 5.577 Billions USD. For the date 2022-01-31 was 10.041 Billions USD. For the date 2021-01-31 was 4.532 Billions USD. \n",
      "----------------------------------------------------------------------------------------------------\n",
      "Document 3:\n",
      "\n",
      "The NVIDIA Operating Revenue For the date 2024-01-31 was 60.922 Billions USD. For the date 2023-01-31 was 26.974 Billions USD. For the date 2022-01-31 was 26.914 Billions USD. For the date 2021-01-31 was 16.675 Billions USD. \n"
     ]
    }
   ],
   "execution_count": 14
  },
  {
   "metadata": {},
   "cell_type": "markdown",
   "source": "### Load Parser",
   "id": "659d102049589388"
  },
  {
   "metadata": {
    "ExecuteTime": {
     "end_time": "2024-10-30T19:50:16.419736Z",
     "start_time": "2024-10-30T19:50:16.414488Z"
    }
   },
   "cell_type": "code",
   "source": "parser = StrOutputParser()",
   "id": "1dc32a2fbc55a692",
   "outputs": [],
   "execution_count": 15
  },
  {
   "metadata": {},
   "cell_type": "markdown",
   "source": "### Create Prompt",
   "id": "c2774492e701fd8b"
  },
  {
   "metadata": {
    "ExecuteTime": {
     "end_time": "2024-10-30T19:50:22.334665Z",
     "start_time": "2024-10-30T19:50:22.319863Z"
    }
   },
   "cell_type": "code",
   "source": [
    "system_prompt = (\n",
    "    \"\"\"You are an assistant for question-answering tasks. Use the following pieces of retrieved context to answer the question. If you don't know the answer, say that you don't know. Use three sentences maximum and keep the answer concise. \\n\\n\n",
    "    Context: {context}\"\"\"\n",
    ")\n",
    "\n",
    "prompt = ChatPromptTemplate.from_messages(\n",
    "    [\n",
    "        (\"system\", system_prompt),\n",
    "        (\"human\", \"{input}\"),\n",
    "    ]\n",
    ")\n",
    "\n",
    "question_answer_chain = create_stuff_documents_chain(llm, prompt)\n",
    "rag_chain = create_retrieval_chain(compression_retriever, question_answer_chain)\n",
    "\n"
   ],
   "id": "18cf696b8d5ae224",
   "outputs": [],
   "execution_count": 16
  },
  {
   "metadata": {},
   "cell_type": "markdown",
   "source": "#### Test Prompt:",
   "id": "504d85f5c4edcd4a"
  },
  {
   "metadata": {
    "ExecuteTime": {
     "end_time": "2024-10-30T19:50:29.297220Z",
     "start_time": "2024-10-30T19:50:26.927960Z"
    }
   },
   "cell_type": "code",
   "source": [
    "response = rag_chain.invoke({\"input\": \"Which year does NVIDIA has the highest Net Income?\"})\n",
    "response[\"answer\"]"
   ],
   "id": "1f06c2fc1a589e5d",
   "outputs": [
    {
     "data": {
      "text/plain": [
       "'NVIDIA had the highest Net Income in the year 2024 with a total of 29.76 Billion USD.'"
      ]
     },
     "execution_count": 17,
     "metadata": {},
     "output_type": "execute_result"
    }
   ],
   "execution_count": 17
  },
  {
   "metadata": {
    "ExecuteTime": {
     "end_time": "2024-10-30T19:50:31.378786Z",
     "start_time": "2024-10-30T19:50:31.361534Z"
    }
   },
   "cell_type": "code",
   "source": [
    "from langchain.chains import create_history_aware_retriever\n",
    "from langchain_core.prompts import MessagesPlaceholder\n",
    "\n",
    "contextualize_q_system_prompt = (\n",
    "    \"Given a chat history and the latest user question \"\n",
    "    \"which might reference context in the chat history, \"\n",
    "    \"formulate a standalone question which can be understood \"\n",
    "    \"without the chat history. Do NOT answer the question, \"\n",
    "    \"just reformulate it if needed and otherwise return it as is.\"\n",
    ")\n",
    "\n",
    "contextualize_q_prompt = ChatPromptTemplate.from_messages(\n",
    "    [\n",
    "        (\"system\", contextualize_q_system_prompt),\n",
    "        MessagesPlaceholder(\"chat_history\"),\n",
    "        (\"human\", \"{input}\"),\n",
    "    ]\n",
    ")\n",
    "history_aware_retriever = create_history_aware_retriever(\n",
    "    llm, compression_retriever, contextualize_q_prompt\n",
    ")"
   ],
   "id": "191abe1bfb648337",
   "outputs": [],
   "execution_count": 18
  },
  {
   "metadata": {
    "ExecuteTime": {
     "end_time": "2024-10-30T19:50:34.371825Z",
     "start_time": "2024-10-30T19:50:34.366878Z"
    }
   },
   "cell_type": "code",
   "source": [
    "from langchain.chains import create_retrieval_chain\n",
    "from langchain.chains.combine_documents import create_stuff_documents_chain\n",
    "\n",
    "qa_prompt = ChatPromptTemplate.from_messages(\n",
    "    [\n",
    "        (\"system\", system_prompt),\n",
    "        MessagesPlaceholder(\"chat_history\"),\n",
    "        (\"human\", \"{input}\"),\n",
    "    ]\n",
    ")"
   ],
   "id": "ef96b301871b0163",
   "outputs": [],
   "execution_count": 19
  },
  {
   "metadata": {
    "ExecuteTime": {
     "end_time": "2024-10-30T19:51:02.924180Z",
     "start_time": "2024-10-30T19:51:02.918054Z"
    }
   },
   "cell_type": "code",
   "source": [
    "question_answer_chain = create_stuff_documents_chain(llm, qa_prompt)\n",
    "\n",
    "rag_chain = create_retrieval_chain(history_aware_retriever, question_answer_chain)"
   ],
   "id": "e0a5dfda2baf0503",
   "outputs": [],
   "execution_count": 20
  },
  {
   "metadata": {
    "ExecuteTime": {
     "end_time": "2024-10-30T19:51:10.333861Z",
     "start_time": "2024-10-30T19:51:04.882151Z"
    }
   },
   "cell_type": "code",
   "source": [
    "from langchain_core.messages import AIMessage, HumanMessage\n",
    "\n",
    "chat_history = []\n",
    "\n",
    "question = \"What is META Net Income?\"\n",
    "ai_msg_1 = rag_chain.invoke({\"input\": question, \"chat_history\": chat_history})\n",
    "chat_history.extend(\n",
    "    [\n",
    "        HumanMessage(content=question),\n",
    "        AIMessage(content=ai_msg_1[\"answer\"]),\n",
    "    ]\n",
    ")\n",
    "\n",
    "print(ai_msg_1[\"answer\"] + \"\\n\\n\")\n",
    "\n",
    "second_question = \"Order these income from highest to lowest?\"\n",
    "ai_msg_2 = rag_chain.invoke({\"input\": second_question, \"chat_history\": chat_history})\n",
    "\n",
    "print(ai_msg_2[\"answer\"])"
   ],
   "id": "5eacba348c78413a",
   "outputs": [
    {
     "name": "stdout",
     "output_type": "stream",
     "text": [
      "The Meta Inc Net Income for 2023 was 39.098 Billion USD, for 2022 was 23.2 Billion USD, for 2021 was 39.37 Billion USD, and for 2020 was 29.146 Billion USD. The Net Income figures were not available for the year 2019.\n",
      "\n",
      "\n",
      "The Net Income figures for Meta Inc from highest to lowest are as follows: \n",
      "- 2023: 39.098 Billion USD\n",
      "- 2021: 39.37 Billion USD\n",
      "- 2020: 29.146 Billion USD\n",
      "- 2022: 23.2 Billion USD\n",
      "- 2019: Not available\n"
     ]
    }
   ],
   "execution_count": 21
  },
  {
   "metadata": {},
   "cell_type": "markdown",
   "source": "### Add Memory/Persistence to RAG System",
   "id": "e017f6a98ac089ec"
  },
  {
   "metadata": {
    "ExecuteTime": {
     "end_time": "2024-10-30T19:52:30.068733Z",
     "start_time": "2024-10-30T19:52:29.797866Z"
    }
   },
   "cell_type": "code",
   "source": [
    "from typing import Sequence\n",
    "\n",
    "from langchain_core.messages import BaseMessage\n",
    "from langgraph.checkpoint.memory import MemorySaver\n",
    "from langgraph.graph import START, StateGraph\n",
    "from langgraph.graph.message import add_messages\n",
    "from typing_extensions import Annotated, TypedDict\n",
    "\n",
    "\n",
    "# We define a dict representing the state of the application.\n",
    "# This state has the same input and output keys as `rag_chain`.\n",
    "class State(TypedDict):\n",
    "    input: str\n",
    "    chat_history: Annotated[Sequence[BaseMessage], add_messages]\n",
    "    context: str\n",
    "    answer: str\n",
    "\n",
    "# We then define a simple node that runs the `rag_chain`.\n",
    "# The `return` values of the node update the graph state, so here we just\n",
    "# update the chat history with the input message and response.\n",
    "def call_model(state: State):\n",
    "    response = rag_chain.invoke(state)\n",
    "    return {\n",
    "        \"chat_history\": [\n",
    "            HumanMessage(state[\"input\"]),\n",
    "            AIMessage(response[\"answer\"]),\n",
    "        ],\n",
    "        \"context\": response[\"context\"],\n",
    "        \"answer\": response[\"answer\"],\n",
    "    }\n",
    "\n",
    "\n",
    "# Our graph consists only of one node:\n",
    "workflow = StateGraph(state_schema=State)\n",
    "workflow.add_edge(START, \"model\")\n",
    "workflow.add_node(\"model\", call_model)\n",
    "\n",
    "# Finally, we compile the graph with a checkpointer object.\n",
    "# This persists the state, in this case in memory.\n",
    "memory = MemorySaver()\n",
    "app = workflow.compile(checkpointer=memory)"
   ],
   "id": "4aed5deb53e4842e",
   "outputs": [],
   "execution_count": 22
  },
  {
   "metadata": {
    "ExecuteTime": {
     "end_time": "2024-10-30T19:52:36.704161Z",
     "start_time": "2024-10-30T19:52:32.949854Z"
    }
   },
   "cell_type": "code",
   "source": [
    "config = {\"configurable\": {\"thread_id\": \"abc125\"}}\n",
    "\n",
    "result = app.invoke(\n",
    "    {\"input\": \"What is NVIDIA Net Income?\"},\n",
    "    config=config,\n",
    ")\n",
    "print(result[\"answer\"])"
   ],
   "id": "af3995a72f402012",
   "outputs": [
    {
     "name": "stdout",
     "output_type": "stream",
     "text": [
      "NVIDIA's Net Income for 2024-01-31 was 29.76 Billion USD, for 2023-01-31 was 4.368 Billion USD, for 2022-01-31 was 9.752 Billion USD, and for 2021-01-31 was 4.332 Billion USD.\n"
     ]
    }
   ],
   "execution_count": 23
  },
  {
   "metadata": {
    "ExecuteTime": {
     "end_time": "2024-10-30T19:53:20.999053Z",
     "start_time": "2024-10-30T19:53:17.499658Z"
    }
   },
   "cell_type": "code",
   "source": [
    "result = app.invoke(\n",
    "    {\"input\": \"Order NVIDIA income from highest to lowest?\"},\n",
    "    config=config,\n",
    ")\n",
    "print(result[\"answer\"])"
   ],
   "id": "5a8f5af2dae3e91a",
   "outputs": [
    {
     "name": "stdout",
     "output_type": "stream",
     "text": [
      "The order of NVIDIA's income from highest to lowest is as follows: 2024-01-31 with 29.76 Billion USD, 2022-01-31 with 9.752 Billion USD, 2023-01-31 with 4.368 Billion USD, and 2021-01-31 with 4.332 Billion USD.\n"
     ]
    }
   ],
   "execution_count": 24
  },
  {
   "metadata": {
    "ExecuteTime": {
     "end_time": "2024-10-30T19:53:26.087137Z",
     "start_time": "2024-10-30T19:53:26.075760Z"
    }
   },
   "cell_type": "code",
   "source": [
    "chat_history = app.get_state(config).values[\"chat_history\"]\n",
    "for message in chat_history:\n",
    "    message.pretty_print()"
   ],
   "id": "59dc65e93116df31",
   "outputs": [
    {
     "name": "stdout",
     "output_type": "stream",
     "text": [
      "================================\u001B[1m Human Message \u001B[0m=================================\n",
      "\n",
      "What is NVIDIA Net Income?\n",
      "==================================\u001B[1m Ai Message \u001B[0m==================================\n",
      "\n",
      "NVIDIA's Net Income for 2024-01-31 was 29.76 Billion USD, for 2023-01-31 was 4.368 Billion USD, for 2022-01-31 was 9.752 Billion USD, and for 2021-01-31 was 4.332 Billion USD.\n",
      "================================\u001B[1m Human Message \u001B[0m=================================\n",
      "\n",
      "Order NVIDIA income from highest to lowest?\n",
      "==================================\u001B[1m Ai Message \u001B[0m==================================\n",
      "\n",
      "The order of NVIDIA's income from highest to lowest is as follows: 2024-01-31 with 29.76 Billion USD, 2022-01-31 with 9.752 Billion USD, 2023-01-31 with 4.368 Billion USD, and 2021-01-31 with 4.332 Billion USD.\n"
     ]
    }
   ],
   "execution_count": 25
  },
  {
   "metadata": {
    "ExecuteTime": {
     "end_time": "2024-10-30T19:53:40.453143Z",
     "start_time": "2024-10-30T19:53:37.084680Z"
    }
   },
   "cell_type": "code",
   "source": [
    "result = app.invoke(\n",
    "    {\"input\": \"What company information is this? \"},\n",
    "    config=config,\n",
    ")\n",
    "print(result[\"answer\"])"
   ],
   "id": "619fe1312a9fb40a",
   "outputs": [
    {
     "name": "stdout",
     "output_type": "stream",
     "text": [
      "The provided information is related to the financial data of NVIDIA, a technology company known for its graphics processing units (GPUs) and semiconductor products.\n"
     ]
    }
   ],
   "execution_count": 26
  },
  {
   "metadata": {},
   "cell_type": "markdown",
   "source": "### System Limitations and Proposal for Fine-Tuning",
   "id": "a9e72e78ebfcbe69"
  },
  {
   "metadata": {
    "ExecuteTime": {
     "end_time": "2024-10-30T19:54:01.184894Z",
     "start_time": "2024-10-30T19:53:58.635391Z"
    }
   },
   "cell_type": "code",
   "source": [
    "result = app.invoke(\n",
    "    {\"input\": \"What companies do you have financial information knowledge about?\"},\n",
    "    config=config,\n",
    ")\n",
    "print(result[\"answer\"])"
   ],
   "id": "7b7aa84210641e89",
   "outputs": [
    {
     "name": "stdout",
     "output_type": "stream",
     "text": [
      "I have information about companies like NVIDIA, APPLE COMPUTER, and STARBUCKS Corp, among others.\n"
     ]
    }
   ],
   "execution_count": 27
  },
  {
   "metadata": {
    "ExecuteTime": {
     "end_time": "2024-10-27T19:54:59.825615Z",
     "start_time": "2024-10-27T19:54:59.803996Z"
    }
   },
   "cell_type": "code",
   "source": [
    "chat_history = app.get_state(config).values[\"chat_history\"]\n",
    "for message in chat_history:\n",
    "    message.pretty_print()"
   ],
   "id": "f43bb9241192390e",
   "outputs": [
    {
     "name": "stdout",
     "output_type": "stream",
     "text": [
      "================================\u001B[1m Human Message \u001B[0m=================================\n",
      "\n",
      "What is NVIDIA Net Income?\n",
      "==================================\u001B[1m Ai Message \u001B[0m==================================\n",
      "\n",
      "NVIDIA's Net Income for 2024-01-31 was 29.76 billion USD, for 2023-01-31 was 4.368 billion USD, for 2022-01-31 was 9.752 billion USD, and for 2021-01-31 was 4.332 billion USD.\n",
      "================================\u001B[1m Human Message \u001B[0m=================================\n",
      "\n",
      "Order NVIDIA income from highest to lowest?\n",
      "==================================\u001B[1m Ai Message \u001B[0m==================================\n",
      "\n",
      "The NVIDIA Net Income from highest to lowest is as follows: 29.76 billion USD for 2024-01-31, 9.752 billion USD for 2022-01-31, 4.368 billion USD for 2023-01-31, and 4.332 billion USD for 2021-01-31.\n",
      "================================\u001B[1m Human Message \u001B[0m=================================\n",
      "\n",
      "What company information is this? \n",
      "==================================\u001B[1m Ai Message \u001B[0m==================================\n",
      "\n",
      "The information provided pertains to NVIDIA, not Apple.\n",
      "================================\u001B[1m Human Message \u001B[0m=================================\n",
      "\n",
      "What companies do you have financial information knowledge about?\n",
      "==================================\u001B[1m Ai Message \u001B[0m==================================\n",
      "\n",
      "I have financial information knowledge about various companies, including but not limited to NVIDIA, Apple, Microsoft, Tesla, Amazon, Google (Alphabet Inc.), and more.\n"
     ]
    }
   ],
   "execution_count": 66
  },
  {
   "metadata": {},
   "cell_type": "code",
   "outputs": [],
   "execution_count": null,
   "source": "",
   "id": "7768ee3acdb37fab"
  }
 ],
 "metadata": {
  "kernelspec": {
   "display_name": "Python 3",
   "language": "python",
   "name": "python3"
  },
  "language_info": {
   "codemirror_mode": {
    "name": "ipython",
    "version": 2
   },
   "file_extension": ".py",
   "mimetype": "text/x-python",
   "name": "python",
   "nbconvert_exporter": "python",
   "pygments_lexer": "ipython2",
   "version": "2.7.6"
  }
 },
 "nbformat": 4,
 "nbformat_minor": 5
}
